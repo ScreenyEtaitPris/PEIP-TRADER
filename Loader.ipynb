{
 "cells": [
  {
   "cell_type": "markdown",
   "metadata": {
    "collapsed": false
   },
   "source": [
    "### Import des bibliothèques"
   ]
  },
  {
   "cell_type": "code",
   "execution_count": 1,
   "metadata": {
    "collapsed": false
   },
   "outputs": [
   ],
   "source": [
    "import pandas as pd\n",
    "import numpy as np\n",
    "import matplotlib.pyplot as plt\n",
    "import seaborn as sns\n",
    "import random\n",
    "import warnings\n",
    "\n",
    "\n",
    "from arch import arch_model\n",
    "    \n",
    "from datetime import datetime, timedelta\n",
    "#import datetime\n",
    "\n",
    "# import tensorflow as tf\n",
    "\n",
    "from numpy import array\n",
    "\n",
    "from statsmodels.tsa.stattools import adfuller\n",
    "from statsmodels.tsa.seasonal import seasonal_decompose\n",
    "from statsmodels.tsa.arima.model import ARIMA\n",
    "from statsmodels.tsa.stattools import acf, pacf\n",
    "from statsmodels.tsa.ar_model import AutoReg\n",
    "from statsmodels.tsa.stattools import arma_order_select_ic\n",
    "\n",
    "from statsmodels.tsa.stattools import adfuller\n",
    "from statsmodels.tsa.stattools import kpss\n",
    "\n",
    "from statsmodels.tsa.holtwinters import SimpleExpSmoothing \n",
    "from statsmodels.tsa.holtwinters import ExponentialSmoothing\n",
    "\n",
    "from statsmodels.graphics.tsaplots import plot_pacf\n",
    "\n",
    "import os\n",
    "import csv\n",
    "\n",
    "import math\n",
    "\n",
    "from IPython.display import Markdown, display\n",
    "\n",
    "def printmd(string):\n",
    "    display(Markdown(string))"
   ]
  },
  {
   "cell_type": "markdown",
   "metadata": {
    "collapsed": false
   },
   "source": [
    "### Classe Loader\n",
    "\n",
    "Classe pour charger les valeurs mobilières.\n",
    "\n"
   ]
  },
  {
   "cell_type": "code",
   "execution_count": 2,
   "metadata": {
    "collapsed": false
   },
   "outputs": [
   ],
   "source": [
    "class Loader :\n",
    "\n",
    "    # 1.ajouter vos valeurs mobilières ici\n",
    "    ADA = \"Cardano\"\n",
    "    AAVE = \"Aave\"\n",
    "    BTC = \"Bitcoin\"\n",
    "    COSMOS = \"Cosmos\"\n",
    "    DOGECOIN = \"Dogecoin\"\n",
    "    ETH = \"Ethereum\"\n",
    "    LITECOIN = \"Litecoin\"\n",
    "    MONERO = \"Monero\"\n",
    "    POLKADOT = \"Polkadot\"\n",
    "    USDCOIN = \"USDCoin\"\n",
    "\n",
    "    MICROSOFT = \"Microsoft\"\n",
    "    ATT = \"AT&T\"\n",
    "    CAC40 = \"cac40\"\n",
    "\n",
    "    # 2. ajouter la variable dans la liste\n",
    "    SECURITY = [ADA, AAVE, BTC, COSMOS, DOGECOIN, ETH, LITECOIN, MONERO, POLKADOT, USDCOIN,\n",
    "                MICROSOFT, ATT, CAC40]\n",
    "\n",
    "    # 3. ajouter votre source ici (dossier `nouvelleSource` dans `data`)\n",
    "    COINCODEX = \"Coincodex\"\n",
    "    YAHOO = \"finance.yahoo.com\"\n",
    "    KAGGLE = \"Kaggle\"\n",
    "    NASDAQ = \"Nasdaq\"\n",
    "    BINANCE = \"Binance\"\n",
    "\n",
    "    # 4. ajouter votre source dans la liste\n",
    "    SOURCES = [BINANCE, COINCODEX, YAHOO, KAGGLE, NASDAQ]\n",
    "\n",
    "    # 5. ajouter votre nom de base de fichier pour la nouvelle source (la clé est la source)\n",
    "    BASE_NAME = {\n",
    "        BINANCE : \"\",\n",
    "        COINCODEX : \"coin_\",\n",
    "        YAHOO : \"\",\n",
    "        KAGGLE : \"coin_\",\n",
    "        NASDAQ : \"\"\n",
    "    }\n",
    "\n",
    "    # Granularity Day, Hour\n",
    "    GRANULARIY = ['', 'h']\n",
    "\n",
    "    def __init__(self):\n",
    "        self.data = {}\n",
    "\n",
    "        for source in Loader.SOURCES :\n",
    "            self.data[source] = {}\n",
    "\n",
    "    def loadFile(self, source, security, granularity='', dateStart=None, dateEnd=None):\n",
    "        '''\n",
    "        @param granulariy: default is day. Possible value is 'h'\n",
    "        \n",
    "        '''\n",
    "        fileName = Loader.BASE_NAME[source]+security\n",
    "        \n",
    "        if(granularity != ''):\n",
    "            fileName = fileName+'-'+granularity\n",
    "        \n",
    "        fileName = fileName+\".csv\"\n",
    "\n",
    "        path = os.path.join(\"data\", source, fileName)\n",
    "\n",
    "#         print(path)\n",
    "        \n",
    "        if(os.path.isfile(path)):\n",
    "            df = pd.read_csv(path,\n",
    "                                header=0)\n",
    "            \n",
    "            df[\"Date\"] = pd.to_datetime(df[\"Date\"])\n",
    "            df[\"Date\"] = df[\"Date\"].dt.date\n",
    "            df= df.set_index(\"Date\")\n",
    "\n",
    "            df.sort_index(axis=0, inplace=True)\n",
    "            \n",
    "#             print(source, \" - \", df.columns)\n",
    "            \n",
    "            if source == Loader.BINANCE:\n",
    "#                 print(\"---------------\", df.columns)\n",
    "                df = df[['high', 'low', 'open', 'Close', 'Volume']]\n",
    "                df.columns = ['High', 'Low', 'Open', 'Close', 'Volume']\n",
    "                df['Market Cap'] = None\n",
    "            elif source == Loader.COINCODEX:\n",
    "                df = df[['High', 'Low', 'Open', 'Close', 'Volume', 'Market Cap']]\n",
    "                df.columns = ['High', 'Low', 'Open', 'Close', 'Volume', 'Marketcap']\n",
    "            elif source == Loader.KAGGLE:\n",
    "                df = df[['High', 'Low', 'Open', 'Close', 'Volume', 'Marketcap']]\n",
    "                df.columns = ['High', 'Low', 'Open', 'Close', 'Volume', 'Marketcap']\n",
    "            elif source == Loader.NASDAQ:\n",
    "                # ['Close/Last', 'Volume', 'Open', 'High', 'Low']\n",
    "                df = df[['High', 'Low', 'Open', 'Close/Last', 'Volume']]\n",
    "                df.columns = ['High', 'Low', 'Open', 'Close', 'Volume']\n",
    "            elif source == Loader.YAHOO:\n",
    "                # ['Open', 'High', 'Low', 'Close', 'Adj Close', 'Volume']\n",
    "\n",
    "                df = df[['High', 'Low', 'Open', 'Close', 'Volume']]\n",
    "                df.columns = ['High', 'Low', 'Open', 'Close', 'Volume']\n",
    "\n",
    "            if(dateStart and dateEnd):\n",
    "                dateStart = datetime.strptime(dateStart, '%Y-%m-%d').date()\n",
    "                dateEnd = datetime.strptime(dateEnd, '%Y-%m-%d').date()\n",
    "                df = df.loc[dateStart:dateEnd]\n",
    "\n",
    "            self.data[source][security] = df\n",
    "#             print(source, \"[\", security, \"]\",\" charged\")\n",
    "\n",
    "#         else:\n",
    "#              print(source, \"[\", security, \"]\",\" not charged\")\n",
    "\n",
    "\n",
    "    def loadSource(self, source, dateStart=None, dateEnd=None, forceEqualDate=False):\n",
    "\n",
    "#         print(\"-----------------\")\n",
    "\n",
    "        for security in Loader.SECURITY:\n",
    "                self.loadFile(source, security, dateStart=dateStart, dateEnd=dateEnd)\n",
    "\n",
    "#         print(\"-----------------\", ((dateStart and dateEnd) or forceEqualDate))\n",
    "\n",
    "        if( (dateStart and dateEnd) or forceEqualDate):\n",
    "            startDates = []        \n",
    "            endDates =  []\n",
    "\n",
    "            for security, df in self.data[source].items():\n",
    "                startDates.append(df.index[0])\n",
    "                endDates.append(df.index[-1])\n",
    "\n",
    "            s = max(startDates)\n",
    "            e = min(endDates)\n",
    "\n",
    "            for security, df in self.data[source].items():\n",
    "                self.data[source][security] = df.loc[s:e]\n",
    "        \n",
    "    def loadSources(self, dateStart=None, dateMax=None):\n",
    "        for source in Loader.SOURCES:\n",
    "            self.loadSource(source)\n",
    "\n",
    "    def get(self, source, nameSecurity):\n",
    "        return self.data[source][nameSecurity]\n",
    "\n"
   ]
  },
  {
   "cell_type": "markdown",
   "metadata": {
    "collapsed": false
   },
   "source": [
    "### Exemple d'utilisation\n",
    "\n",
    "Pour charger  \n",
    " une données précises, il faut indiquer :\n",
    "\n",
    "- la source des données (un dossier par source dans le dossier `data`)\n",
    "- le nom de la valeur mobilière\n",
    "- en option, les dates sur lesquels charger la donnée\n",
    "\n"
   ]
  },
  {
   "cell_type": "code",
   "execution_count": 3,
   "metadata": {
    "collapsed": false
   },
   "outputs": [
    {
     "ename": "NameError",
     "evalue": "name 'Loader' is not defined",
     "output_type": "error",
     "traceback": [
      "\u001b[0;31m---------------------------------------------------------------------------\u001b[0m",
      "\u001b[0;31mNameError\u001b[0m                                 Traceback (most recent call last)",
      "\u001b[0;32m<ipython-input-3-d04287055930>\u001b[0m in \u001b[0;36m<module>\u001b[0;34m\u001b[0m\n\u001b[0;32m----> 1\u001b[0;31m \u001b[0mloader\u001b[0m \u001b[0;34m=\u001b[0m \u001b[0mLoader\u001b[0m\u001b[0;34m(\u001b[0m\u001b[0;34m)\u001b[0m\u001b[0;34m\u001b[0m\u001b[0;34m\u001b[0m\u001b[0m\n\u001b[0m\u001b[1;32m      2\u001b[0m \u001b[0;34m\u001b[0m\u001b[0m\n\u001b[1;32m      3\u001b[0m \u001b[0mloader\u001b[0m\u001b[0;34m.\u001b[0m\u001b[0mloadFile\u001b[0m\u001b[0;34m(\u001b[0m\u001b[0mLoader\u001b[0m\u001b[0;34m.\u001b[0m\u001b[0mCOINCODEX\u001b[0m\u001b[0;34m,\u001b[0m \u001b[0mLoader\u001b[0m\u001b[0;34m.\u001b[0m\u001b[0mADA\u001b[0m\u001b[0;34m,\u001b[0m \u001b[0mdateStart\u001b[0m\u001b[0;34m=\u001b[0m\u001b[0;34m\"2000-01-01\"\u001b[0m\u001b[0;34m,\u001b[0m \u001b[0mdateEnd\u001b[0m\u001b[0;34m=\u001b[0m\u001b[0;34m\"2024-01-01\"\u001b[0m\u001b[0;34m)\u001b[0m\u001b[0;34m\u001b[0m\u001b[0;34m\u001b[0m\u001b[0m\n\u001b[1;32m      4\u001b[0m \u001b[0;34m\u001b[0m\u001b[0m\n\u001b[1;32m      5\u001b[0m \u001b[0mdf\u001b[0m \u001b[0;34m=\u001b[0m \u001b[0mloader\u001b[0m\u001b[0;34m.\u001b[0m\u001b[0mget\u001b[0m\u001b[0;34m(\u001b[0m\u001b[0mLoader\u001b[0m\u001b[0;34m.\u001b[0m\u001b[0mCOINCODEX\u001b[0m\u001b[0;34m,\u001b[0m \u001b[0mLoader\u001b[0m\u001b[0;34m.\u001b[0m\u001b[0mADA\u001b[0m\u001b[0;34m)\u001b[0m\u001b[0;34m\u001b[0m\u001b[0;34m\u001b[0m\u001b[0m\n",
      "\u001b[0;31mNameError\u001b[0m: name 'Loader' is not defined"
     ]
    }
   ],
   "source": [
    "loader = Loader()\n",
    "\n",
    "loader.loadFile(Loader.COINCODEX, Loader.ADA, dateStart=\"2000-01-01\", dateEnd=\"2024-01-01\")\n",
    "\n",
    "df = loader.get(Loader.COINCODEX, Loader.ADA)\n"
   ]
  },
  {
   "cell_type": "markdown",
   "metadata": {
    "collapsed": false
   },
   "source": [
    "Pour charger une source, il faut indiquer :\n",
    "- la source des données (un dossier par source dans le dossier `data`)\n",
    "- en option, les dates sur lesquels charger la donnée"
   ]
  },
  {
   "cell_type": "code",
   "execution_count": 4,
   "metadata": {
    "collapsed": false
   },
   "outputs": [
    {
     "ename": "NameError",
     "evalue": "name 'loader' is not defined",
     "output_type": "error",
     "traceback": [
      "\u001b[0;31m---------------------------------------------------------------------------\u001b[0m",
      "\u001b[0;31mNameError\u001b[0m                                 Traceback (most recent call last)",
      "\u001b[0;32m<ipython-input-4-7bf374bb1e48>\u001b[0m in \u001b[0;36m<module>\u001b[0;34m\u001b[0m\n\u001b[0;32m----> 1\u001b[0;31m \u001b[0mloader\u001b[0m\u001b[0;34m.\u001b[0m\u001b[0mloadSource\u001b[0m\u001b[0;34m(\u001b[0m\u001b[0mLoader\u001b[0m\u001b[0;34m.\u001b[0m\u001b[0mCOINCODEX\u001b[0m\u001b[0;34m,\u001b[0m \u001b[0mdateStart\u001b[0m\u001b[0;34m=\u001b[0m\u001b[0;34m\"2000-01-01\"\u001b[0m\u001b[0;34m,\u001b[0m \u001b[0mdateEnd\u001b[0m\u001b[0;34m=\u001b[0m\u001b[0;34m\"2024-01-01\"\u001b[0m\u001b[0;34m)\u001b[0m\u001b[0;34m\u001b[0m\u001b[0;34m\u001b[0m\u001b[0m\n\u001b[0m\u001b[1;32m      2\u001b[0m \u001b[0;34m\u001b[0m\u001b[0m\n\u001b[1;32m      3\u001b[0m \u001b[0;31m# loader.data\u001b[0m\u001b[0;34m\u001b[0m\u001b[0;34m\u001b[0m\u001b[0;34m\u001b[0m\u001b[0m\n",
      "\u001b[0;31mNameError\u001b[0m: name 'loader' is not defined"
     ]
    }
   ],
   "source": [
    "\n",
    "loader.loadSource(Loader.COINCODEX, dateStart=\"2000-01-01\", dateEnd=\"2024-01-01\")\n",
    "\n",
    "# loader.data"
   ]
  },
  {
   "cell_type": "code",
   "execution_count": 11,
   "metadata": {
    "collapsed": false
   },
   "outputs": [
    {
     "name": "stdout",
     "output_type": "stream",
     "text": [
      "-----------------\n",
      "data/Coincodex/coin_Cardano.csv\n",
      "Coincodex  -  Index(['Open', 'High', 'Low', 'Close', 'Volume', 'Market Cap'], dtype='object')\n",
      "Coincodex [ Cardano ]  charged\n",
      "data/Coincodex/coin_Aave.csv\n",
      "Coincodex [ Aave ]  not charged\n",
      "data/Coincodex/coin_Bitcoin.csv\n"
     ]
    },
    {
     "name": "stdout",
     "output_type": "stream",
     "text": [
      "Coincodex  -  Index(['Open', 'High', 'Low', 'Close', 'Volume', 'Market Cap'], dtype='object')\n",
      "Coincodex [ Bitcoin ]  charged\n",
      "data/Coincodex/coin_Cosmos.csv\n",
      "Coincodex [ Cosmos ]  not charged\n",
      "data/Coincodex/coin_Dogecoin.csv\n",
      "Coincodex [ Dogecoin ]  not charged\n",
      "data/Coincodex/coin_Ethereum.csv\n"
     ]
    },
    {
     "name": "stdout",
     "output_type": "stream",
     "text": [
      "Coincodex  -  Index(['Open', 'High', 'Low', 'Close', 'Volume', 'Market Cap'], dtype='object')\n",
      "Coincodex [ Ethereum ]  charged\n",
      "data/Coincodex/coin_Litecoin.csv\n",
      "Coincodex [ Litecoin ]  not charged\n",
      "data/Coincodex/coin_Monero.csv\n",
      "Coincodex [ Monero ]  not charged\n",
      "data/Coincodex/coin_Polkadot.csv\n",
      "Coincodex [ Polkadot ]  not charged\n",
      "data/Coincodex/coin_USDCoin.csv\n",
      "Coincodex [ USDCoin ]  not charged\n",
      "data/Coincodex/coin_Microsoft.csv\n",
      "Coincodex [ Microsoft ]  not charged\n",
      "data/Coincodex/coin_AT&T.csv\n",
      "Coincodex [ AT&T ]  not charged\n",
      "data/Coincodex/coin_cac40.csv\n",
      "Coincodex [ cac40 ]  not charged\n",
      "----------------- True\n"
     ]
    }
   ],
   "source": [
    "loader.loadSource(Loader.COINCODEX, forceEqualDate=True)\n"
   ]
  },
  {
   "cell_type": "code",
   "execution_count": 12,
   "metadata": {
    "collapsed": false
   },
   "outputs": [
   ],
   "source": [
    "\n",
    "dfAda = loader.data[Loader.COINCODEX][Loader.ADA]\n",
    "dfBtc = loader.data[Loader.COINCODEX][Loader.BTC]\n",
    "\n",
    "# print(\"Ada from \", dfAda.index[0], \" to \", dfAda.index[-1])\n",
    "# print(\"Btc from \", dfBtc.index[0], \" to \", dfBtc.index[-1])"
   ]
  },
  {
   "cell_type": "code",
   "execution_count": 7,
   "metadata": {
    "collapsed": false
   },
   "outputs": [
   ],
   "source": [
    "# loader.loadSource(Loader.BINANCE, forceEqualDate=True)\n"
   ]
  },
  {
   "cell_type": "code",
   "execution_count": 8,
   "metadata": {
    "collapsed": false
   },
   "outputs": [
   ],
   "source": [
    "\n",
    "# dfAda = loader.data[Loader.BINANCE][Loader.ADA]\n",
    "\n",
    "# print(\"Ada from \", dfAda.index[0], \" to \", dfAda.index[-1])\n"
   ]
  },
  {
   "cell_type": "markdown",
   "metadata": {
    "collapsed": false
   },
   "source": [
    "Pour charger toutes les données :"
   ]
  },
  {
   "cell_type": "code",
   "execution_count": 9,
   "metadata": {
    "collapsed": false
   },
   "outputs": [
   ],
   "source": [
    "# loader.loadSources()"
   ]
  },
  {
   "attachments": {
   },
   "cell_type": "markdown",
   "metadata": {
    "collapsed": false
   },
   "source": [
    "### Binance API - non fonctionnel"
   ]
  },
  {
   "cell_type": "markdown",
   "metadata": {
    "collapsed": false
   },
   "source": [
    "binanceAPI = BinanceAPI()\n",
    "\n",
    "binanceAPI.saveCoin(\"BTC\")\n",
    "\n",
    "client = Client()\n",
    "klines = client.get_historical_klines(\"BTCUSDT\", Client.KLINE_INTERVAL_1DAY, \"1 Jan, 2000\")\n",
    "\n",
    "\n",
    "header = ['Unix','Date','Symbol','Open','High','Low','Close','Volume','Close time','Quote asset volume','Number of trades', 'Taker buy base asset volume', 'Taker buy quote asset volume', 'can be ignored']\n",
    "with open( CoinSymbol+'.csv', 'w' ,newline='') as f:\n",
    "    writer = csv.writer(f)\n",
    "    writer.writerow(header)\n",
    "    for ligne in COIN:\n",
    "        ligne.insert(1,datetime.fromtimestamp(ligne[0]/1000))\n",
    "        ligne.insert(2,CoinSymbol)\n",
    "        writer.writerow(ligne)\n",
    "\n",
    "\n",
    "print(len(klines))\n",
    "klines"
   ]
  },
  {
   "cell_type": "code",
   "execution_count": 10,
   "metadata": {
    "collapsed": false
   },
   "outputs": [
   ],
   "source": [
    "# class BinanceAPI:\n",
    "\n",
    "#     def __init__(self, granularity=Client.KLINE_INTERVAL_1DAY):\n",
    "#         self.client = Client()\n",
    "#         self.path = os.path.join('data', 'Binance')\n",
    "#         self.granularity = granularity\n",
    "\n",
    "\n",
    "#     def saveCoin(self, key):\n",
    "#         data = self.client.get_historical_klines(key+\"USDT\", self.granularity, \"1 Jan, 2000\")\n",
    "#         fileName = os.path.join(self.path, key+\".csv\")\n",
    "\n",
    "#         header = ['Unix','Date','Symbol','Open','High','Low','Close','Volume','Close time','Quote asset volume','Number of trades', 'Taker buy base asset volume', 'Taker buy quote asset volume', 'can be ignored']\n",
    "\n",
    "#         with open( fileName, 'w' ,newline='') as f:\n",
    "#             writer = csv.writer(f)\n",
    "#             writer.writerow(header)\n",
    "#             for ligne in data:\n",
    "#                 ligne.insert(1, datetime.fromtimestamp(ligne[0]/1000))\n",
    "#                 ligne.insert(2, key)\n",
    "#                 writer.writerow(ligne)"
   ]
  }
 ],
 "metadata": {
  "kernelspec": {
   "display_name": "Python 3 (Ubuntu Linux)",
   "language": "python",
   "name": "python3-ubuntu",
   "resource_dir": "/usr/local/share/jupyter/kernels/python3-ubuntu"
  },
  "language_info": {
   "codemirror_mode": {
    "name": "ipython",
    "version": 3
   },
   "file_extension": ".py",
   "mimetype": "text/x-python",
   "name": "python",
   "nbconvert_exporter": "python",
   "pygments_lexer": "ipython3",
   "version": "3.8.10"
  },
  "vscode": {
   "interpreter": {
    "hash": "26e703a13f136efadcc926dae761341b869ee060cc21fc1f60ec92f6b591cbb4"
   }
  }
 },
 "nbformat": 4,
 "nbformat_minor": 4
}