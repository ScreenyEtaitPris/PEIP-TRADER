{
 "cells": [
  {
   "cell_type": "markdown",
   "metadata": {},
   "source": [
    "# Chargement des données\n",
    "\n",
    "Ce Notebook est purement utilitaire : nous allons l'utiliser pour charger nos données, et il sera utilisé dans les autres Notebook pour nous faciliter la vie. Un autre objectif sera aussi de charger les bibliothèques utiles pour exécuter nos autre Notebook. \n",
    "\n",
    "Ainsi, on regroupe ici une bonne partie de ce dont nous aurons besoin pour travailler : nos données et les bibliothèques."
   ]
  },
  {
   "cell_type": "markdown",
   "metadata": {},
   "source": [
    "## Les bibliothèques\n",
    "\n",
    "Nous chargeons ici les possibles bibliothèques que nous pourrons utiliser. "
   ]
  },
  {
   "cell_type": "code",
   "execution_count": null,
   "metadata": {},
   "outputs": [],
   "source": [
    "import pandas as pd\n",
    "import numpy as np\n",
    "import matplotlib.pyplot as plt\n",
    "import seaborn as sns\n",
    "import random\n",
    "import warnings\n",
    "\n",
    "from arch import arch_model\n",
    "    \n",
    "from datetime import datetime, timedelta\n",
    "import datetime\n",
    "\n",
    "# import tensorflow as tf\n",
    "\n",
    "from numpy import array\n",
    "\n",
    "from statsmodels.tsa.stattools import adfuller\n",
    "from statsmodels.tsa.seasonal import seasonal_decompose\n",
    "from statsmodels.tsa.arima.model import ARIMA\n",
    "from statsmodels.tsa.stattools import acf, pacf\n",
    "from statsmodels.tsa.ar_model import AutoReg\n",
    "from statsmodels.tsa.stattools import arma_order_select_ic\n",
    "\n",
    "from statsmodels.tsa.stattools import adfuller\n",
    "from statsmodels.tsa.stattools import kpss\n",
    "\n",
    "from statsmodels.tsa.holtwinters import SimpleExpSmoothing \n",
    "from statsmodels.tsa.holtwinters import ExponentialSmoothing\n",
    "\n",
    "from statsmodels.graphics.tsaplots import plot_pacf\n",
    "\n",
    "import os\n",
    "\n",
    "import math\n",
    "\n",
    "from IPython.display import Markdown, display\n",
    "\n",
    "def printmd(string):\n",
    "    display(Markdown(string))"
   ]
  },
  {
   "cell_type": "markdown",
   "metadata": {},
   "source": [
    "## Définition de variables\n",
    "\n",
    "Ici, nous définissons des variables pour nous faciliter la vie : \n",
    "- chaque variable porte le nom du jeton d'une certaine BlockChain. Ainsi la variable `ada` a pour valeur `Cardano`\n",
    "- le nom des fichiers est obtenu à partir des noms des Blockchaines (regardez le dossier `data`, le nom des fichiers contient bien le nom de leur Blockchaines)\n",
    "- le chemin des fichiers est ensuite défini (il faut ajouter le répertoire `data` au nom du fichier)\n",
    "\n",
    "Dans la suite, nous allons charger nos dataframes dans un dictionnaire indexé par le nom des Blockchaines."
   ]
  },
  {
   "cell_type": "code",
   "execution_count": null,
   "metadata": {},
   "outputs": [],
   "source": [
    "ada = \"Cardano\"\n",
    "eth = \"Ethereum\"\n",
    "btc = \"Bitcoin\"\n",
    "\n",
    "names =  [ada, btc, eth]\n",
    "\n",
    "# nom des fichiers\n",
    "fileNames = [\"coin_\"+name+\".csv\" for name in names]\n",
    "\n",
    "# définition de la source des données \"Coindex\" et génération des chemins complets\n",
    "source =  \"Coincodex\" \n",
    "files = [os.path.join(\"data\", source, fileName) for fileName in fileNames]\n",
    "\n",
    "print(files)\n"
   ]
  },
  {
   "cell_type": "markdown",
   "metadata": {},
   "source": [
    "## Chargement des données\n",
    "\n",
    "Le chargement des données se fait en parcourant notre liste de chemin de fichiers.\n",
    "\n",
    "Les dataframes sont stockés dans un dictionnaire."
   ]
  },
  {
   "cell_type": "code",
   "execution_count": null,
   "metadata": {},
   "outputs": [],
   "source": [
    "dataCoins = {}\n",
    "\n",
    "for index, (file, name) in enumerate(zip(files, names)):\n",
    "\n",
    "    print(\"Coin loaded: \", file, name)\n",
    "\n",
    "    dataCoins[name] = pd.read_csv(file,\n",
    "                            header=0,\n",
    "                            index_col=0, \n",
    "                            parse_dates=[\"Date\"])\n",
    "                            \n",
    "    printmd(\"**Dtypes**:\\n\")\n",
    "    print(dataCoins[name].dtypes)\n",
    "\n",
    "    printmd(\"**From**:\\n\")\n",
    "    print(dataCoins[name].index.min(), \" to \", dataCoins[name].index.max())\n",
    "\n",
    "    dataCoins[name].sort_index(axis=0, inplace=True)\n",
    "\n",
    "dataCoins[\"Bitcoin\"].head()\n"
   ]
  },
  {
   "cell_type": "markdown",
   "metadata": {},
   "source": [
    "### Questions\n",
    "\n",
    "1. des questions sur `enumerate()` dans la boucle `for` ? voir Google `Python enumerate`\n",
    "2. des question sur `zip()` ? voir Google `Python zip()`\n",
    "3. est ce que tout les dataframes générés ont bien un index initialisé avec les dates ? où est le code réalisant cette opération ? quel paramètre ?"
   ]
  },
  {
   "cell_type": "markdown",
   "metadata": {},
   "source": [
    "### Utilisation\n",
    "\n",
    "Pour utiliser notre dictionnaire `dataCoins`, voici un exemple :"
   ]
  },
  {
   "cell_type": "code",
   "execution_count": null,
   "metadata": {},
   "outputs": [],
   "source": [
    "data = dataCoins[ada]\n",
    "\n",
    "data = data.loc[:, ['Close']]\n",
    "data.head()\n",
    "\n"
   ]
  },
  {
   "cell_type": "markdown",
   "metadata": {},
   "source": [
    "Et un autre exemple, affichant les dataframes chargés dans le dictionnaire. Cela permettra ainsi de voir si tous s'est bien passé quand on chargera ce fichier. "
   ]
  },
  {
   "cell_type": "code",
   "execution_count": null,
   "metadata": {},
   "outputs": [],
   "source": [
    "plt.rcParams['figure.figsize'] = [15, 8]\n",
    "\n",
    "ax = None\n",
    "legends = []\n",
    "\n",
    "for (key, value) in dataCoins.items():\n",
    "    \n",
    "    if ax == None:\n",
    "        ax  = value.loc[:, ['Close']].plot()\n",
    "    else:\n",
    "        value.loc[:, ['Close']].plot(ax=ax)\n",
    "\n",
    "    legends.append(key)\n",
    "\n",
    "ax.legend(legends);\n"
   ]
  },
  {
   "cell_type": "code",
   "execution_count": null,
   "metadata": {},
   "outputs": [],
   "source": [
    "data.Close"
   ]
  },
  {
   "cell_type": "code",
   "execution_count": null,
   "metadata": {},
   "outputs": [],
   "source": []
  }
 ],
 "metadata": {
  "kernelspec": {
   "display_name": "peip",
   "language": "python",
   "name": "python3"
  },
  "language_info": {
   "codemirror_mode": {
    "name": "ipython",
    "version": 3
   },
   "file_extension": ".py",
   "mimetype": "text/x-python",
   "name": "python",
   "nbconvert_exporter": "python",
   "pygments_lexer": "ipython3",
   "version": "3.7.12"
  },
  "vscode": {
   "interpreter": {
    "hash": "abd2beacde2ad8bc7e66beeb35f0a4cd147d1b4753b4401a5787dcc471033900"
   }
  }
 },
 "nbformat": 4,
 "nbformat_minor": 4
}
