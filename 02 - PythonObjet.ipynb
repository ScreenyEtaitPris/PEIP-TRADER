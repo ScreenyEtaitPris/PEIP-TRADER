{
 "cells": [
  {
   "cell_type": "markdown",
   "metadata": {
    "collapsed": false
   },
   "source": [
    "# Objectif\n",
    "\n",
    "Dans ce notebook, nous allons introduire la programmation objet en Python.\n",
    "\n",
    "La programmation objet est maintenant le paradigme le plus utilisé pour construire des programmes. Il est à comparer avec le paradigme séquentiel (une séquence d'instructions) ou procédurale (ré-utilisation de code via des fonctions).\n",
    "\n",
    "La programmation objet permet de construire des objets, contenant des données, puis d'appeler des fonctions sur ces objets. Pour construire des objets, nous avons besoin d'un plan de construction. Un plan définit les données contenues et les fonctions que l'on peut appeler sur ce type d'objet.\n",
    "\n",
    "La programmation objet fait un lien avec le monde réel pour construire des programmes. Par exemple, pour construire un téléphone portable :\n",
    "1. on réalise un plan de cet objet, en indiquant les données contenues et les fonctionnalités disponibles\n",
    "2. à partir du plan, on construit 1000 téléphones\n",
    "3. chaque téléphone gère ses propres données et le même ensemble de fonctions peut être appelé sur chaque téléphone\n",
    "\n",
    "Pour être plus formel, voici un peu de vocabulaire lié à l'informatique pour parler **objet** :\n",
    "- un plan d'un objet est appelé une **classe**\n",
    "- une classe permet d'**instancier** des objets\n",
    "- une données d'un objet est appelé un **attribut**\n",
    "- une fonction appelable sur un objet est une **méthode**\n",
    "\n",
    "Dans ce notebook, nous allons voir comment :\n",
    "1. définition d'une classe\n",
    "2. ajouter un constructeur\n",
    "3. ajouter des données dans une classe\n",
    "4. ajouter des méthodes\n",
    "\n",
    "Avant d'aller plus loin, sachez que vous avez déjà manipulé des objets en Python...\n",
    "\n",
    "## Retour sur les listes\n",
    "\n",
    "Une liste Python est en effet une classe à partir de laquelle vous pouvez créer un objet représentant en mémoire une liste.\n",
    "\n"
   ]
  },
  {
   "cell_type": "code",
   "execution_count": null,
   "metadata": {
    "collapsed": false
   },
   "outputs": [],
   "source": [
    "l1 = list() # instanciation d'une liste\n",
    "\n",
    "l1.append(4) # appelle de la méthode 'append' sur l'objet l1\n",
    "l1.append(5) # appelle de la méthode 'append' sur l'objet l1\n",
    "\n",
    "print(l1)"
   ]
  },
  {
   "cell_type": "markdown",
   "metadata": {
    "collapsed": false
   },
   "source": [
    "Le constructeur est ``list()`` et retourne une liste. On appelle ensuite la méthode `append` sur la liste `l1`.\n",
    "\n",
    "Le point important est de bien comprendre la notation objet `monObjet.maMethode()`, se lisant de cette manière : *la méthode 'maMethode' est appelée sur l'objet 'monObjet'*.\n",
    "\n",
    "Pour bien comprende ce qui se passe quand un tel code est appelé, voici ce que fait Python en vrai :\n",
    "1. vérification que la méthode `maMethode()` existe bien dans la classe de ``monObjet``\n",
    "2. appel du code ``ClasseDeMonObjet.maMethode(monObjet)``\n",
    "\n",
    "Par exemple, dans le code précédent, voici ce qui est fait :\n",
    "1. vérification que la méthode `append()` existe bien dans la classe de ``list``\n",
    "2. appel du code ``list.append(l1, 4)``\n",
    "\n",
    "Par rapport à ce que vous connaissiez déjà, seul le fait que la fonction appartient à une classe change.\n",
    "\n",
    "Le gain de l'approche objet est que l'on peut créer autant d'objet que l'on veut à partir d'une classe :"
   ]
  },
  {
   "cell_type": "code",
   "execution_count": null,
   "metadata": {},
   "outputs": [],
   "source": [
    "l2 = list() # instanciation d'une liste\n",
    "\n",
    "l2.append(6) # appelle de la méthode 'append' sur l'objet l2\n",
    "l2.append(7) # appelle de la méthode 'append' sur l'objet l2\n",
    "\n",
    "print(\"l1:\", l1, \" est toujours là\")\n",
    "print(\"l2: \", l2)"
   ]
  },
  {
   "cell_type": "markdown",
   "metadata": {
    "collapsed": false
   },
   "source": [
    "\n",
    "**Question** : \n",
    "1. comment se lit le code ``l1.append(4)`` ?\n",
    "2. écrire un programme créant un objet de type dictionnaire et ajouter des clés valeurs dans l'objet\n",
    "3. commenter le code en indiquant la ligne appelant le constructeur et les lignes appelant des méthodes sur votre objet\n",
    "4. commenter votre code sur une ligne appelant une méthode en écrivant ce qui est réellement fait pas Python"
   ]
  },
  {
   "cell_type": "markdown",
   "metadata": {},
   "source": [
    "Réponse question 1: "
   ]
  },
  {
   "cell_type": "code",
   "execution_count": null,
   "metadata": {},
   "outputs": [],
   "source": [
    "# Question 2-4 : Création d'un dictionnaire\n",
    "\n"
   ]
  },
  {
   "cell_type": "markdown",
   "metadata": {
    "collapsed": false
   },
   "source": [
    "## Définition d'une classe\n",
    "\n",
    "Nous allons maintenant voir comment définir notre propre classe. Afin de faire le lien avec notre projet de tradeur, nous allons créer et utiliser deux classes :\n",
    "- une classe `Account` pour gérer le cash et les sécurités d'un utilisateur\n",
    "- une classe `Game` permettant de réaliser les ventes et achats de sécurité réalisé via un `Account` d'un joueur\n",
    "\n",
    "La classe `Account` est fournie comme exemple et votre objectif sera de développer la classe `Game`.\n",
    "\n",
    "Commençons par un peu de syntaxe pour définir la classe `Account` :"
   ]
  },
  {
   "cell_type": "code",
   "execution_count": null,
   "metadata": {},
   "outputs": [],
   "source": [
    "class Account :\n",
    "    pass # utile pour indiquer où le bloc commence et où il finit\n",
    "    pass # pass indique une ligne vide, si vous voulez un bloc vide, il est obligatoire"
   ]
  },
  {
   "cell_type": "markdown",
   "metadata": {},
   "source": [
    "Voilà, nous savons définir / créer une classe. En plus, une classe contient un constructeur par défaut, donc nous pouvons directement l'utiliser.\n",
    "\n",
    "**Questions** : \n",
    "1. en faisant le lien avec l'exemple précédent `list`, créer un objet à partir de la classe `Account` (**aide**: pour créer un objet à partir d'une classe, il suffit de faire `NomDeLaClasse()`, puis de récupérer l'objet créé dans une variable - par exemple `l = list()`)\n",
    "2. créer votre classe `Game`"
   ]
  },
  {
   "cell_type": "code",
   "execution_count": null,
   "metadata": {},
   "outputs": [],
   "source": [
    "# création d'un account"
   ]
  },
  {
   "cell_type": "code",
   "execution_count": null,
   "metadata": {},
   "outputs": [],
   "source": [
    "# Classe Game"
   ]
  },
  {
   "cell_type": "markdown",
   "metadata": {},
   "source": [
    "## Le constructeur\n",
    "\n",
    "Il faut maintenant ajouter notre constructeur, afin d'ajouter les données liées à un compte utilisateur."
   ]
  },
  {
   "cell_type": "code",
   "execution_count": null,
   "metadata": {
    "collapsed": false
   },
   "outputs": [],
   "source": [
    "class Account :\n",
    "\n",
    "    def __init__(self):\n",
    "        pass # instruction ne faisant rien, mais obligatoire pour indiquer que la méthode est vide\n"
   ]
  },
  {
   "cell_type": "markdown",
   "metadata": {
    "collapsed": false
   },
   "source": [
    "Et un peu d'explication :\n",
    "- maintenant que la classe n'est plus vide, nous pouvons supprimer le précédent `pass`\n",
    "- `def __init__(...)` est le constructeur de la classe. Le constructeur sert à initialiser les données d'un objet créé à partir de la classe, d'où le nom `init`. Les `__` indique que la méthode est une méthode réservée par Python (il ne faut pas nommer vos propres méthodes en commençant et finissant par `__`)\n",
    "- le paramètre `self` est lié à ce que fait réellement Python quand il appelle une méthode : `Account.__init__(objetDeBase)`. Le `self` est l'objet construit et celui que l'on est en train d'initialiser dans le constructeur\n",
    "- un constructeur retourne toujours un objet du type du nom de la classe\n",
    "\n",
    "Ce constructeur est équivalent au constructeur par défaut. Voici donc un exemple très similaire au précédent :"
   ]
  },
  {
   "cell_type": "code",
   "execution_count": null,
   "metadata": {},
   "outputs": [],
   "source": [
    "antoine = Account() # ce qui est fait : Account.__init__(objetDeBase)\n",
    "paul = Account()\n",
    "thierry = Account()"
   ]
  },
  {
   "cell_type": "markdown",
   "metadata": {},
   "source": [
    "## Ajout d'attributs\n",
    "\n",
    "Un constructeur sert en fait à définir, fournir et initialiser les attributs (les données) de vos objets. Voyons comment ajouter des attributs à notre compte utilisateur.\n",
    "\n",
    "Nous avons besoin pour notre compte d'un montant de cash (100 euros par exemple) et d'un montant d'une sécurité (0 action Orange, 0 bitcoin, ...).\n",
    "\n",
    "Et c'est parti :"
   ]
  },
  {
   "cell_type": "code",
   "execution_count": null,
   "metadata": {
    "collapsed": false
   },
   "outputs": [],
   "source": [
    "class Account :\n",
    "\n",
    "    def __init__(self):\n",
    "        self.cash = 100\n",
    "        self.security = 0"
   ]
  },
  {
   "cell_type": "markdown",
   "metadata": {
    "collapsed": false
   },
   "source": [
    "Nous avons ici défini deux variables, appartenant à l'objet `self` (pour rappel, le `self` est l'objet construit). Nous pouvons vérifier que ces deux variables sont bien maintenant disponibles.\n"
   ]
  },
  {
   "cell_type": "code",
   "execution_count": null,
   "metadata": {
    "collapsed": false
   },
   "outputs": [],
   "source": [
    "antoine = Account() \n",
    "paul = Account()\n",
    "\n",
    "print(\"Antoine's cash : \", antoine.cash)\n",
    "print(\"Paul's cash : \", paul.cash)\n"
   ]
  },
  {
   "cell_type": "markdown",
   "metadata": {
    "collapsed": false
   },
   "source": [
    "Et nous pouvons aussi vérifier que ces 2 objets ont bien chacun leur donnée :"
   ]
  },
  {
   "cell_type": "code",
   "execution_count": null,
   "metadata": {
    "collapsed": false,
    "scrolled": true
   },
   "outputs": [],
   "source": [
    "antoine.cash = antoine.cash - 45\n",
    "paul.cash = paul.cash *2\n",
    "\n",
    "print(\"Antoine's cash : \", antoine.cash)\n",
    "print(\"Paul's cash : \", paul.cash)"
   ]
  },
  {
   "cell_type": "markdown",
   "metadata": {
    "collapsed": false
   },
   "source": [
    "Nous pouvons maintenant créer un `Account` contenant un montant de cash et de sécurité. Nous allons maintenant permettre de fournir en entrée le montant de cash, afin de pouvoir commencer le jeu avec un autre montant si nécessaire.\n"
   ]
  },
  {
   "cell_type": "code",
   "execution_count": null,
   "metadata": {},
   "outputs": [],
   "source": [
    "class Account :\n",
    "\n",
    "    def __init__(self, cash):\n",
    "        self.cash = cash\n",
    "        self.security = 0"
   ]
  },
  {
   "cell_type": "markdown",
   "metadata": {},
   "source": [
    "Un peu d'explication :\n",
    "- nous avons ajouté un paramètre `cash` au constructeur. Ce paramètre pouvait être appelé différemment, mais cela a du sens de l'appeler comme la variable `self.cash`. Notez que ce sont 2 variables indépendantes\n",
    "- `self.cash = cash` initialise notre variable `self.cash` avec le paramètre `cash`\n",
    "\n",
    "Nous pouvons tester que notre précédent code ne fonctionne plus :"
   ]
  },
  {
   "cell_type": "code",
   "execution_count": null,
   "metadata": {
    "collapsed": false
   },
   "outputs": [],
   "source": [
    "antoine = Account() "
   ]
  },
  {
   "cell_type": "markdown",
   "metadata": {},
   "source": [
    "Et qu'il faut maintenant fournir un argument au constructeur :"
   ]
  },
  {
   "cell_type": "code",
   "execution_count": null,
   "metadata": {
    "collapsed": false
   },
   "outputs": [],
   "source": [
    "antoine = Account(3000) "
   ]
  },
  {
   "cell_type": "markdown",
   "metadata": {},
   "source": [
    "Encore un dernier ajout avant de vous passer la main pour votre classe `Game`. Pour éviter d'avoir à fournir le montant en cash, nous pouvons fixer un montant par défaut :"
   ]
  },
  {
   "cell_type": "code",
   "execution_count": null,
   "metadata": {
    "collapsed": false
   },
   "outputs": [],
   "source": [
    "class Account :\n",
    "\n",
    "    def __init__(self, cash=100):\n",
    "        self.cash = cash\n",
    "        self.security = 0"
   ]
  },
  {
   "cell_type": "markdown",
   "metadata": {},
   "source": [
    "**Questions**:\n",
    "1. après avoir exécuté cette nouvelle classe `Account`, ré-exécuter le bloc contenant le code `antoine = Account() `. Cela fonctionne maintenant ?\n",
    "2. modifier le constructeur de votre classe `Game` :\n",
    "   - ajouter un attribut `serie` représentant la série temporelle des valeurs de la sécurité (son type sera une liste Python)\n",
    "   - ajouter un attribut `clock` représentant à quel instant nous sommes dans la série temporelle\n",
    "   - ajouter comme variable d'objet un `Account` réprésentant le compte d'un joueur (et oui, un objet peut lui-même contenir des objets)\n",
    "3. modifier les paramètres du  constructeur de votre classe `Game` pour initialiser vos variables d'objet\n",
    "4. faire en sorte que le compte utilisateur soit par défaut à `None` \n",
    "5. tester votre classe en affichant les différentes variables de votre `Game`"
   ]
  },
  {
   "cell_type": "code",
   "execution_count": null,
   "metadata": {},
   "outputs": [],
   "source": [
    "# Classe Game"
   ]
  },
  {
   "cell_type": "markdown",
   "metadata": {
    "collapsed": false
   },
   "source": [
    "### Les méthodes\n",
    "\n",
    "Il nous reste maintenant à ajouter des méthodes sur nos classes. \n",
    "\n",
    "Reprenons avec `Account` :\n",
    "- une méthode pour détecter si l'utilisateur est rincé...\n",
    "- une méthode retournant la valeur théorique du compte (si on vendait toutes les sécurités maintenant)\n",
    "- une méthode affichant notre objet d'une manière conviviale"
   ]
  },
  {
   "cell_type": "code",
   "execution_count": null,
   "metadata": {
    "collapsed": false
   },
   "outputs": [],
   "source": [
    "class Account :\n",
    "\n",
    "    def __init__(self, cash=100):\n",
    "        self.cash = cash\n",
    "        self.security = 0\n",
    "\n",
    "    def isOver(self):\n",
    "        return self.security == 0 and self.cash == 0.0\n",
    "\n",
    "    def getTheoricalValue(self, unityPrice):\n",
    "        return (self.cash + self.security * unityPrice)\n",
    "\n",
    "    def print(self):\n",
    "        print(\"Cash: \", self.cash, \" & Security: \", self.security)"
   ]
  },
  {
   "cell_type": "markdown",
   "metadata": {
    "collapsed": false
   },
   "source": [
    "Un peu d'explication :\n",
    "- toutes les méthodes prennent le paramètre `self` en premier (afin que Python puisse trasnformer `antoine.isOver()` par `Account.isOver(antoine)`)\n",
    "- nos deux premières fonctions retournent une valeur, via le `return`. Pas la troisième.\n",
    "\n",
    "Et un exemple d'utilisation :"
   ]
  },
  {
   "cell_type": "code",
   "execution_count": null,
   "metadata": {
    "collapsed": false
   },
   "outputs": [],
   "source": [
    "antoine = Account() \n",
    "\n",
    "print(\"Antoine is over ? \", antoine.isOver())\n",
    "print(\"Antoine'value : \", antoine.getTheoricalValue(1.23))\n",
    "antoine.print()"
   ]
  },
  {
   "cell_type": "markdown",
   "metadata": {
    "collapsed": false
   },
   "source": [
    "Retournons maintenant sur votre classe `Game`.\n",
    "\n",
    "**Questions**:\n",
    "1. ajouter une fonction `setAccount(account)` permettant d'initialiser l'attribut `account` avec celui en paramètre\n",
    "2. ajouter une méthode `getTheoricalValue()` retournant le montant théorique du compte au prix de la fin de la série\n",
    "3. ajouter une méthode `run`, parcourant une à une les valeurs de la série temporelle, et pour chaque valeur :\n",
    "   - choissisant une action parmi VENDRE, ACHETER, NE_RIEN_FAIRE (voir stratégie en-dessous)\n",
    "   - Si VENDRE est choisi, tout vendre au prix du jour\n",
    "   - Si ACHETER est choisi, acheter au maximum de sécurité\n",
    "   - Si NE_RIEN_FAIRE, alors ne rien faire\n",
    "4. tester votre classe en créant des objets et en affichant le gain moyen\n",
    "\n",
    "Pour la stratégie : \n",
    "- on parcourira une liste de floatant que vous allez fournir\n",
    "- si l'indice du floatant est pair, on ne fait rien\n",
    "- si l'indice est divisible par 3, on achète \n",
    "- si l'indice est divisible par 5, on vend\n",
    "- si l'indice est divisible par 3 et 5, on achète"
   ]
  },
  {
   "cell_type": "code",
   "execution_count": null,
   "metadata": {
    "collapsed": false
   },
   "outputs": [],
   "source": [
    "# Classe Game\n"
   ]
  },
  {
   "cell_type": "code",
   "execution_count": null,
   "metadata": {},
   "outputs": [],
   "source": [
    "# Test"
   ]
  }
 ],
 "metadata": {
  "kernelspec": {
   "display_name": "Python 3.9.12 ('base')",
   "language": "python",
   "name": "python3"
  },
  "language_info": {
   "codemirror_mode": {
    "name": "ipython",
    "version": 3
   },
   "file_extension": ".py",
   "mimetype": "text/x-python",
   "name": "python",
   "nbconvert_exporter": "python",
   "pygments_lexer": "ipython3",
   "version": "3.9.12"
  },
  "toc": {
   "base_numbering": 1,
   "nav_menu": {},
   "number_sections": true,
   "sideBar": true,
   "skip_h1_title": false,
   "title_cell": "Table of Contents",
   "title_sidebar": "Contents",
   "toc_cell": false,
   "toc_position": {},
   "toc_section_display": true,
   "toc_window_display": true
  },
  "vscode": {
   "interpreter": {
    "hash": "25b24fd06369b3c3e6b07dac28bcf825c0f4da95ef841965a93f10e220334cd3"
   }
  }
 },
 "nbformat": 4,
 "nbformat_minor": 4
}
