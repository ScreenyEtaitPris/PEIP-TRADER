{
 "cells": [
  {
   "cell_type": "markdown",
   "metadata": {},
   "source": [
    "## Objectif & Plan\n",
    "\n",
    "Pandas est une bibliothèque permettant de manipuler et analyser des données. L'objectif de cette première séance est de vous familiariser avec cet outil et de découvrir les données Madoc sur lesquelles vous allez travailler.\n",
    "\n",
    "Dans la première partie de ce notebook, nous commençons par vour présenter quelques commandes Pandas. Dans la deuxième partie, vous devrez appliquer ces commandes sur les données Madoc. Votre travail de Data Scientist commence donc dès maintenant.\n",
    "\n",
    "La première étape est d'importer les bibliothèques utiles pour le projet. Ici nous importons la bibliothèques Pandas, en la renommant 'pd' afin de faciliter son utilisation ('pd' car c'est le raccourci utilisé sur tous les tutoriels publiés sur le web).\n",
    "\n",
    "Pour exécuter le code d'un bloc d'un notebook jupyter, cliquer sur le bloc et taper la combinaison de touche $Maj+entrée$."
   ]
  },
  {
   "cell_type": "code",
   "execution_count": null,
   "metadata": {},
   "outputs": [],
   "source": [
    "import pandas as pd"
   ]
  },
  {
   "cell_type": "markdown",
   "metadata": {},
   "source": [
    "## Partie 1 - introduction à Pandas\n",
    "\n",
    "### 1.Lire un fichier CSV\n",
    "\n",
    "La première étape est de charger les données. Nous allons tout d'abord travailler sur un exemple simple, des séries temporelles de sécurités : \n",
    "le bitcoin (**btc**) et l'ada (**ada**), deux jetons de block chain.\n",
    "\n",
    "La fonction `read_csv` de Pandas permet de lire un fichier csv. Elle est appelée en tapant `pd.read_csv(...)`, qui se lit \"j'appelle la fonction `read_csv(...)` de Pandas\". \n",
    "\n",
    "L'opérateur `.` permet d'accéder à une fonction dans un module python. \n",
    "Un $module$ python est en pratique un fichier contenant du code python.\n",
    "\n",
    "La fonction `read_csv()` retourne un dataframe Pandas. Un dataframe est un tableau composé de colonnes et de lignes.\n",
    "\n",
    "Exécutez les blocs suivants pour charger les données. "
   ]
  },
  {
   "cell_type": "code",
   "execution_count": null,
   "metadata": {},
   "outputs": [],
   "source": [
    "btc = pd.read_csv('./data/Coincodex/coin_Bitcoin.csv', sep=',')\n",
    "btc.head()"
   ]
  },
  {
   "attachments": {},
   "cell_type": "markdown",
   "metadata": {},
   "source": [
    "Les fichiers contiennent donc des lignes représentant chacune des statistiques sur les prix. La première ligne indique le prix, pour le 17 août, à l'ouverture, au plus haut, au plus bas, à la fermeture, le volume échangé et le volume total du coins. \n",
    "\n",
    "La fonction `head()` de Pandas permet d'afficher les premières lignes du tableau. Maintenant que vous avez fait de l'objet, vous avez dû comprendre que la fonction `read_csv()` de `pandas` retourne un objet sur lequel on peut appeler la méthode `head()`. L'objet retourné est un `DataFrame`.\n",
    "\n",
    "#### Exercice\n",
    "\n",
    "Complétez le bloc suivant pour charger maintenant le fichier `data/Coincodex/coin_Cardano.csv` contenant l'historique des prix du jeton Ada de la blockchain Cardano."
   ]
  },
  {
   "cell_type": "code",
   "execution_count": null,
   "metadata": {},
   "outputs": [],
   "source": [
    "# chargez le fichier et affichez les premières lignes du tableau\n",
    "\n",
    "# affichage des premieres lignes - 1 lignes de codes\n"
   ]
  },
  {
   "attachments": {},
   "cell_type": "markdown",
   "metadata": {},
   "source": [
    "### 2. Lignes et colonnes\n",
    "\n",
    "Un `DataFrame` Pandas est composé de lignes et colonnes :\n",
    "- chaque ligne est indexée par un nom unique\n",
    "- chaque colonne est indexée par un nom unique\n",
    "- chaque ligne a aussi un numéro, comme dans un tableau\n",
    "- chaque colonne a aussi un numéro, comme dans un tableau\n",
    "\n",
    "Vous verrez dans la suite, qu'il est possible d'accèder aux colonnes et/ou lignes en passant soit par l'index/nom, soit par les numéro de lignes/colonnes. \n",
    "\n",
    "Voyons voir les colonnes, l'index et la taille du `DataFrame btc` :\n",
    "\n"
   ]
  },
  {
   "cell_type": "code",
   "execution_count": null,
   "metadata": {},
   "outputs": [],
   "source": [
    "print(\"columns :\", btc.columns)\n",
    "\n",
    "print(\"index des lignes: \", btc.index)\n",
    "\n",
    "print(\"taille du dataframe:\", btc.shape)"
   ]
  },
  {
   "cell_type": "markdown",
   "metadata": {},
   "source": [
    "`Index(['Date', 'Open', 'High', 'Low', 'Close', 'Volume', 'Market Cap'], dtype='object')` est ainsi l'index des colonnes.\n",
    "\n",
    "`RangeIndex(start=0, stop=4416, step=1)` est l'index des lignes. Les lignes sont ici indexées de 0 au nombre de ligne. Le numéro de la ligne est donc égale à son index, ce qui ne sera pas toujours le cas.\n",
    "\n",
    "Nous voyons donc ici que nous avons 4416 lignes et 7 colonnes (sauf si j'ai récupéré un nouveau fichier contenant un historique plus long...).\n",
    "\n",
    "Pandas permet de faire des sélections via les colonnes ou l'index. Pour réaliser des sélections, 2 possibilités :\n",
    "- passer par les **indices** via la fonction `iloc` (les numéros des lignes ou colonnes, comme dans un tableau)\n",
    "- passer par les **index** via la fonction `loc`\n",
    "\n",
    "Le format des sélections est le suivant :\n",
    "\n",
    "    btc.iloc[indiceLignes, indiceColonnes]\n",
    "    btc.loc[indexLignes, indexColonnes] \n",
    "\n",
    "Notez qu'il est aussi possible de ne pas mettre `loc`:\n",
    "    \n",
    "    btc[indexLignes, indexColonnes]\n",
    "\n",
    "Voici un exemple de code pour sélectionner une colonne dans le `DataFrame btc` via les **index** :"
   ]
  },
  {
   "cell_type": "code",
   "execution_count": null,
   "metadata": {
    "scrolled": false
   },
   "outputs": [],
   "source": [
    "btc.loc[:, 'Close']"
   ]
  },
  {
   "cell_type": "markdown",
   "metadata": {},
   "source": [
    "Ce qui est équivalent à :"
   ]
  },
  {
   "cell_type": "code",
   "execution_count": null,
   "metadata": {},
   "outputs": [],
   "source": [
    "btc['Close']"
   ]
  },
  {
   "cell_type": "markdown",
   "metadata": {},
   "source": [
    "Afin d'éviter de s'emmêler les pinceaux, nous allons maintenant soit passer par `loc`, soit par `iloc`, en indiquant les lignes/colonnes.\n",
    "\n",
    "Exemple de sélection de plusieurs colonnes : "
   ]
  },
  {
   "cell_type": "code",
   "execution_count": null,
   "metadata": {},
   "outputs": [],
   "source": [
    "btc.loc[:, ['Close', 'Volume']]"
   ]
  },
  {
   "cell_type": "markdown",
   "metadata": {},
   "source": [
    "Equivalent à :"
   ]
  },
  {
   "cell_type": "code",
   "execution_count": null,
   "metadata": {},
   "outputs": [],
   "source": [
    "btc.iloc[:, [4, 5]]"
   ]
  },
  {
   "cell_type": "markdown",
   "metadata": {},
   "source": [
    "Voici un exemple de sélection de lignes :"
   ]
  },
  {
   "cell_type": "code",
   "execution_count": null,
   "metadata": {},
   "outputs": [],
   "source": [
    "btc.loc[1:4, :]"
   ]
  },
  {
   "cell_type": "markdown",
   "metadata": {},
   "source": [
    "Ce qui, puisque dans notre cas l'index est aussi composé de nombre de 0 à N, est équivalent à :"
   ]
  },
  {
   "cell_type": "code",
   "execution_count": null,
   "metadata": {},
   "outputs": [],
   "source": [
    "btc.iloc[1:4, :]"
   ]
  },
  {
   "cell_type": "markdown",
   "metadata": {},
   "source": [
    "Dans cette exemple, la sélection se fait via l'opérateur 'slice'. Cet opérateur à la forme suivante: `a:b:c`, où `a` représente le numéro de l'élément de début, `b` le numéro de l'élément de fin **non inclus** et `c` représente le pas d'avancement pour aller de `a` à `b`. Par défaut, `c` est initialisé à `1`. Ainsi dans cette exemple, nous allons de la ligne $1$ à $4-1$, ce qui revient à sélectionner la lignes d'**indices** `1, 2, 3`.\n",
    "\n",
    "\n",
    "La fonction `iloc` est à comparer à la fonction `loc`, qui ne donne pas le même résultat..."
   ]
  },
  {
   "cell_type": "code",
   "execution_count": null,
   "metadata": {},
   "outputs": [],
   "source": [
    "btc.loc[1:4, :]"
   ]
  },
  {
   "cell_type": "markdown",
   "metadata": {},
   "source": [
    "\n",
    "Voici un exemple de sélection de plusieurs lignes et colonnes :"
   ]
  },
  {
   "cell_type": "code",
   "execution_count": null,
   "metadata": {},
   "outputs": [],
   "source": [
    "btc.iloc[3:8, [4, 5,6]]"
   ]
  },
  {
   "cell_type": "markdown",
   "metadata": {},
   "source": [
    "Equivalent à :"
   ]
  },
  {
   "cell_type": "code",
   "execution_count": null,
   "metadata": {},
   "outputs": [],
   "source": [
    "btc.loc[3:7, ['Close', 'Volume', 'Market Cap']]"
   ]
  },
  {
   "cell_type": "code",
   "execution_count": null,
   "metadata": {},
   "outputs": [],
   "source": [
    "print(\"Sélection des index 2 à 4 (inclus...) et de la colonne \\'Close\\':\")\n",
    "btc.iloc[2:, 4]\n",
    "\n"
   ]
  },
  {
   "cell_type": "code",
   "execution_count": null,
   "metadata": {},
   "outputs": [],
   "source": [
    "btc.loc[0:, ['Close', 'Volume']]"
   ]
  },
  {
   "cell_type": "markdown",
   "metadata": {},
   "source": [
    "Il est aussi possible de sélectionner les lignes contenant certaines valeurs, en utilisant les opérateurs `==`, `>`, `<`, `>=` et `<=` :"
   ]
  },
  {
   "cell_type": "code",
   "execution_count": null,
   "metadata": {},
   "outputs": [],
   "source": [
    "btc.loc[btc.loc[:, 'Volume'] >= 4.503609e+10]"
   ]
  },
  {
   "cell_type": "markdown",
   "metadata": {},
   "source": [
    "Dans l'exemple précédent, puisqu'on sélectionne des lignes, il ne faut pas indiquer les index sur les lignes (`btc.loc[:, btc.loc[:, 'Volume'] >= 4.503609e+10]` ne fonctionne pas).\n",
    "\n",
    "Pour construire des formules booléennes, il faut utiliser les opérateurs `&` et `|` pour respectivement le \"et\" et le \"ou\".\n",
    "\n",
    "Ici un exemple de sélection des lignes contenant les jours , avec un numéro de ressource supérieur à 150:"
   ]
  },
  {
   "cell_type": "code",
   "execution_count": null,
   "metadata": {},
   "outputs": [],
   "source": [
    "btc.loc[(btc.loc[:, 'Volume'] >= 4.503609e+10) & (btc.loc[:, 'Open']> btc.loc[:, 'Close'])]"
   ]
  },
  {
   "cell_type": "markdown",
   "metadata": {},
   "source": [
    "#### Exercice\n",
    "\n",
    "A vous de jouer maintenant sur votre DataFrame `ada`.\n",
    "\n",
    "**Questions** : \n",
    "\n",
    "1. sélectionner les colonnes `Open`, `High` et `Low` du data frame `ada`\n",
    "2. sélectionner les deux dernières lignes\n",
    "3. sélectionner les lignes d'**index** 2 et 3 sur les colonnes `Close` et `Market Cap`\n",
    "3. sélectionner les lignes d'**indice** 2 et 3 sur les colonnes `Close` et `Market Cap`\n",
    "4. sélectionner toutes les lignes ayant un **index** pair\n",
    "5. sélectionner les lignes ayant une valeur `Close` supérieure à 0.50 \n",
    "6. sélectionner les lignes ayant une valeur à l'ouverture inférieure à celle de la fermeture et les colonnes `[\"Open\", \"Close\"] `"
   ]
  },
  {
   "cell_type": "code",
   "execution_count": null,
   "metadata": {},
   "outputs": [],
   "source": [
    "# réponse question 1"
   ]
  },
  {
   "cell_type": "code",
   "execution_count": null,
   "metadata": {},
   "outputs": [],
   "source": [
    "# réponse question 2"
   ]
  },
  {
   "cell_type": "code",
   "execution_count": null,
   "metadata": {},
   "outputs": [],
   "source": [
    "# réponse question 3"
   ]
  },
  {
   "cell_type": "code",
   "execution_count": null,
   "metadata": {},
   "outputs": [],
   "source": [
    "# réponse question 4"
   ]
  },
  {
   "cell_type": "code",
   "execution_count": null,
   "metadata": {},
   "outputs": [],
   "source": [
    "# réponse question 5"
   ]
  },
  {
   "cell_type": "code",
   "execution_count": null,
   "metadata": {},
   "outputs": [],
   "source": [
    "# réponse question 6"
   ]
  },
  {
   "cell_type": "code",
   "execution_count": null,
   "metadata": {},
   "outputs": [],
   "source": [
    "# réponse question 7"
   ]
  },
  {
   "attachments": {},
   "cell_type": "markdown",
   "metadata": {},
   "source": [
    "### 3. Points sur les data frame et les séries\n",
    "\n",
    "Pandas utilise des objets de type `dataFrame`. Un data frame est un tableau composé de colonnes et de lignes. Chaque colone est en fin de compte une série. \n",
    "\n",
    "Vous avez peut être noté précédemment que quand vous sélectionnez une seule colonne de votre précédent DataFrame, l'affichage n'est plus le même...cela est dû au fait que vous aviez obtenu une série comme résultat, et non pas un dataframe.\n",
    "\n",
    "En pratique, il faudra faire attention à la distinction car les séries et les dataframes n'ont pas les mêmes méthodes. Certaines s'appliquent seulement aux dataframmes, et d'autres qu'aux séries.\n",
    "\n",
    "### Les séries\n",
    "\n",
    "Une série est un objet unidimensionnel pouvant contenir une liste de valeurs. Une série est défini par :\n",
    "- une liste de valeurs, généralement de même type (sinon, elle est généralement difficilement exploitable)\n",
    "- un index\n",
    "\n",
    "Voici un exemple de série, créée à partir d'une liste :"
   ]
  },
  {
   "cell_type": "code",
   "execution_count": null,
   "metadata": {},
   "outputs": [],
   "source": [
    "serie = pd.Series([10,20,30,40,50])\n",
    "\n",
    "serie"
   ]
  },
  {
   "cell_type": "markdown",
   "metadata": {},
   "source": [
    "Son index, ici allant de 0 à 4 :"
   ]
  },
  {
   "cell_type": "code",
   "execution_count": null,
   "metadata": {},
   "outputs": [],
   "source": [
    "serie.index"
   ]
  },
  {
   "cell_type": "markdown",
   "metadata": {},
   "source": [
    "L'index d'une série peut être défini :"
   ]
  },
  {
   "cell_type": "code",
   "execution_count": null,
   "metadata": {},
   "outputs": [],
   "source": [
    "serie = pd.Series([10,20,30,40,50], index=['a', 'b', 'c', 'd', 'e'])\n",
    "\n",
    "serie"
   ]
  },
  {
   "cell_type": "markdown",
   "metadata": {},
   "source": [
    "L'accès à un ou plusieurs éléments de la série peut se faire via l'index :"
   ]
  },
  {
   "cell_type": "code",
   "execution_count": null,
   "metadata": {},
   "outputs": [],
   "source": [
    "print(str(serie.loc[['a', 'b']])+\"\\n\")\n",
    "print(\"type d'une série: \"+str(type(serie[['a', 'b']])))\n",
    "\n",
    "print(\"\\naccès à un élément via l'index:\")\n",
    "print(serie.loc['a'])"
   ]
  },
  {
   "cell_type": "markdown",
   "metadata": {},
   "source": [
    "ou bien via le numéro de la ligne :"
   ]
  },
  {
   "cell_type": "code",
   "execution_count": null,
   "metadata": {},
   "outputs": [],
   "source": [
    "serie.iloc[0]"
   ]
  },
  {
   "cell_type": "markdown",
   "metadata": {},
   "source": [
    "Et enfin, pour faire le lien avec nos données :  chaque colonne du dataFrame `dataTraces` est donc une série. Dans l'exemple suivant, nous utilisons la fonction type() pour afficher le type d'une colonne sélectionnée dans notre data frame `dataTraces`."
   ]
  },
  {
   "cell_type": "code",
   "execution_count": null,
   "metadata": {},
   "outputs": [],
   "source": [
    "print(type(btc.loc[:, 'Close']))"
   ]
  },
  {
   "attachments": {},
   "cell_type": "markdown",
   "metadata": {},
   "source": [
    "### 4. Les dataframes\n",
    "\n",
    "Un data frame est un objet à 2 dimensions pouvant avoir plusieurs colonnes avec des types différents.\n",
    "\n",
    "Il est possible d'avoir le début ou la fin d'un data frame avec les fonctions `head()` et `tail()`.\n",
    "\n"
   ]
  },
  {
   "cell_type": "code",
   "execution_count": null,
   "metadata": {},
   "outputs": [],
   "source": [
    "btc.tail()"
   ]
  },
  {
   "cell_type": "markdown",
   "metadata": {},
   "source": [
    "Il est possible d'ajouter une colonne, de faire des sommes de colonnes, ..."
   ]
  },
  {
   "cell_type": "code",
   "execution_count": null,
   "metadata": {},
   "outputs": [],
   "source": [
    "btc[\"NewColumn\"] = True\n",
    "\n",
    "btc.head()"
   ]
  },
  {
   "cell_type": "code",
   "execution_count": null,
   "metadata": {},
   "outputs": [],
   "source": [
    "btc[\"Diff\"] = btc[\"Close\"] - btc[\"Open\"]\n",
    "\n",
    "btc.head()"
   ]
  },
  {
   "cell_type": "markdown",
   "metadata": {},
   "source": [
    "Il est possible de voir le type de chaque colonne :"
   ]
  },
  {
   "cell_type": "code",
   "execution_count": null,
   "metadata": {},
   "outputs": [],
   "source": [
    "btc.dtypes"
   ]
  },
  {
   "cell_type": "markdown",
   "metadata": {},
   "source": [
    "La méthode `describe()` permet d'avoir des statistiques simples sur les colonnes contenant des données numériques."
   ]
  },
  {
   "cell_type": "code",
   "execution_count": null,
   "metadata": {},
   "outputs": [],
   "source": [
    "btc.describe()"
   ]
  },
  {
   "cell_type": "markdown",
   "metadata": {},
   "source": [
    "Toujours sur votre DatFrame `ada`, répondez aux questions suivantes.\n",
    "\n",
    "**Questions** :\n",
    "1. ajouter une colonne \"Diff\" contenant la différence entre le prix à l'ouverture et le prix à la fermeture\n",
    "2. transformer le type de la colonne `Date` en `timestamp` (un peu de recherche Google `Pandas set column timestamp`)\n",
    "3. créer une série ne contenant que les valeurs de la colonne `Close`. L'index de cette série sera la colonne `Date`\n",
    "4. afficher quelques statistiques sur cette série"
   ]
  },
  {
   "cell_type": "code",
   "execution_count": null,
   "metadata": {},
   "outputs": [],
   "source": [
    "# Question 1"
   ]
  },
  {
   "cell_type": "code",
   "execution_count": null,
   "metadata": {},
   "outputs": [],
   "source": [
    "# Question 2"
   ]
  },
  {
   "cell_type": "code",
   "execution_count": null,
   "metadata": {},
   "outputs": [],
   "source": [
    "# Question 3"
   ]
  },
  {
   "cell_type": "code",
   "execution_count": null,
   "metadata": {},
   "outputs": [],
   "source": [
    "# Question 4"
   ]
  },
  {
   "attachments": {},
   "cell_type": "markdown",
   "metadata": {},
   "source": [
    "### 5. Fusion de DataFrames\n",
    "\n",
    "Pour notre projet, il sera intéressant de créer des DataFrames avec plusieurs valeurs de sécurités. Plusieurs sécurités pourront ainsi être passé à un réseau de neurones pour faire de la prédiction, ce qui a du sens si certaines sécurités sont corrélées entre elles.\n",
    "\n",
    "Une jointure entre deux data frames A et B consiste à les fusionner en associant une ligne de A avec une ligne de B si elles ont toutes les deux la même valeur sur une certaine colonne.\n",
    "\n",
    "Dans notre cas, nous allons fusionner `ada` et `btc` dans un même DataFrame, en associant deux lignes de chacun seulement si la date du jour est similaire.\n",
    "\n",
    "Voici l'algorithme pour réaliser une fusion, en comme,çant avec `i=0` :\n",
    "1. prendre la ligne i de `btc`\n",
    "2. regarder la date `d` de cette ligne\n",
    "3. pour chaque ligne de `ada`, si la date est identique à `d` alors créer une ligne [`btc`, `ada`]\n",
    "4. incrémenter i et aller à l'étape 1.\n",
    "\n",
    "En pratique, dans notre exemple, chaque ligne de `btc` sera associée avec au plus une seule ligne de `ada`, puisque que chaque ligne est indexée par la date (chaque valeur d'un index est unique, l'index servant à identifier une ligne ou une colonne).\n",
    "\n",
    "Il nous reste plus qu'à présenter la fonction pour réaliser une fusion :\n",
    "\n",
    "https://pandas.pydata.org/docs/reference/api/pandas.merge.html\n",
    "\n",
    "Cette fonction prend les 2 DataFrames en paramètre (`left` et `right`), le mode (`how`) et sur quelle colonne on compare les valeurs (`on`). Le `how` permet d'expliquer ce que l'on fait quand une ligne d'un des deux DataFrame n'est pas associée avec une ligne de l'autre DataFrame  : on garde juste les lignes non associées de `btc` ? on garde juste les lignes non associées de `ada` ? on garde tout ? on ne garde aucune ligne non associée ?  "
   ]
  },
  {
   "cell_type": "markdown",
   "metadata": {},
   "source": [
    "**Questions**:\n",
    "1. étudier la fonction `merge` de Pandas\n",
    "2. créer un dataFrame `btcAda` en fusionnant `btc` et `ada`, en ne gardant que les lignes associées\n",
    "3. étudier le dataFrame obtenu\n",
    "4. supprimer toutes les colonnes sauf une de Date et les `Close` de chaque coin (vous devez donc avoir 3 colonnes en tout)\n",
    "5. transformer le type de la colonne `Date` en timestamp\n",
    "6. définir l'index du DataFrame avec la colonne `Date`\n",
    "7. si nécessaire, supprimer la colonne `Date` (puisque l'index est maintenant la date)\n",
    "8. classer les lignes via l'index en ascendant (la première ligne est le plus ancien) "
   ]
  },
  {
   "cell_type": "code",
   "execution_count": null,
   "metadata": {},
   "outputs": [],
   "source": [
    "# Questions 1-2-3"
   ]
  },
  {
   "cell_type": "code",
   "execution_count": null,
   "metadata": {},
   "outputs": [],
   "source": [
    "# Question  4-7"
   ]
  },
  {
   "cell_type": "code",
   "execution_count": null,
   "metadata": {},
   "outputs": [],
   "source": [
    "# Question 8"
   ]
  },
  {
   "attachments": {},
   "cell_type": "markdown",
   "metadata": {},
   "source": [
    "### 6. Conclusion\n",
    "\n",
    "Félicitation ! \n",
    "\n",
    "Vous devez maintenant être à l'aise pour manipuler nos données de sécurités."
   ]
  },
  {
   "cell_type": "markdown",
   "metadata": {},
   "source": []
  }
 ],
 "metadata": {
  "kernelspec": {
   "display_name": "Python 3.9.12 ('base')",
   "language": "python",
   "name": "python3"
  },
  "language_info": {
   "codemirror_mode": {
    "name": "ipython",
    "version": 3
   },
   "file_extension": ".py",
   "mimetype": "text/x-python",
   "name": "python",
   "nbconvert_exporter": "python",
   "pygments_lexer": "ipython3",
   "version": "3.9.13"
  },
  "toc": {
   "base_numbering": 1,
   "nav_menu": {},
   "number_sections": true,
   "sideBar": true,
   "skip_h1_title": false,
   "title_cell": "Table of Contents",
   "title_sidebar": "Contents",
   "toc_cell": false,
   "toc_position": {},
   "toc_section_display": true,
   "toc_window_display": false
  },
  "vscode": {
   "interpreter": {
    "hash": "25b24fd06369b3c3e6b07dac28bcf825c0f4da95ef841965a93f10e220334cd3"
   }
  }
 },
 "nbformat": 4,
 "nbformat_minor": 2
}
