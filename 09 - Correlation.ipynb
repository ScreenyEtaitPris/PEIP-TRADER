{
 "cells": [
  {
   "cell_type": "markdown",
   "metadata": {},
   "source": [
    "## Corrélation\n",
    "\n",
    "Ce notebook vous présente une méthode pour comparer la corrélation entre 2 séries temporelles. L'idée ici est de déterminer si une source de données peut nous aider à prédire la valeur d'une valeur mobilière particulière. Par exemple, il serait intéressant de vérifier si le coin ada varie en fonction du bitcoin ou bien de l'ethereum, ou encore de valeurs boursières.\n",
    "\n",
    "Ce notebook a été construit à partir de la source suivante : [*Practical Time Series Analysis, Prediction with Statistics & Machine Learning*, Aileen Nielsen, 2020](https://www.oreilly.com/library/view/practical-time-series/9781492041641/).\n",
    "\n",
    "Dans ce notebook, nous allons :\n",
    "1. charger les données de 2 série temporelles, ada et btc\n",
    "2. sélectionner les plages temporelles sur laquelle comparer les données\n",
    "2. afficher les données via un nuage de points\n",
    "3. afficher les données via leur différence\n",
    "4. décaler la valeur du btc de 1 pour tester sa prédiction sur l'ada"
   ]
  },
  {
   "cell_type": "code",
   "execution_count": null,
   "metadata": {},
   "outputs": [],
   "source": [
    "%run -i \"05 - LoadData.ipynb\"\n",
    "plt.rcParams['figure.figsize'] = [15, 8]"
   ]
  },
  {
   "cell_type": "markdown",
   "metadata": {},
   "source": [
    "### Sélection de la plage temporelle maximale\n",
    "\n",
    "Afin de calculer la corrélation entre les deux valeurs mobilières, on commence par sélectionné l'intervalle de temps commun sur ces deux séries.\n"
   ]
  },
  {
   "cell_type": "code",
   "execution_count": null,
   "metadata": {},
   "outputs": [],
   "source": [
    "dfAda = dataCoins[ada].loc[:, ['Close']]\n",
    "\n",
    "print(dfAda.index.min(), \"-\", dfAda.index.max())\n",
    "\n",
    "dfBtc = dataCoins[btc].loc[dfAda.index.min():dfAda.index.max(), ['Close']]\n",
    "\n",
    "print(dfBtc.index.min(), \"-\", dfBtc.index.max())\n",
    "\n",
    "dfBtc.head()"
   ]
  },
  {
   "cell_type": "markdown",
   "metadata": {},
   "source": [
    "### Corrélation des données brutes\n",
    "\n",
    "La première méthode consisterait à afficher les couples des valeurs des deux coins via un nuage de points, et de calculer la corrélation entre les deux ensembles de valeurs."
   ]
  },
  {
   "cell_type": "code",
   "execution_count": null,
   "metadata": {},
   "outputs": [],
   "source": [
    "plt.scatter(x=dfAda.Close, y=dfBtc.Close)\n",
    "\n",
    "print(\"Correlation :\", dfAda.Close.corr(dfBtc.Close))"
   ]
  },
  {
   "cell_type": "markdown",
   "metadata": {},
   "source": [
    "Interprétation de cette figure : \n",
    "- un point (x,y) est la valeur du `ada` et du `btc` sur une même date (en X, `ada` et en Y, `btc`)\n",
    "- on voit que la figure qu'un `ada` élevé est lié à un `btc` élevé\n",
    "- on pourrait résumer ces points en une droite partant de (0,0) pour aller en (2.5, 5000)\n",
    "- on a une corrélation positive : quand l'`ada` monte, le `btc` monte aussi !\n",
    " \n",
    "Il semblerait donc que nous ayons une forte corrélation entre les 2 coins. Afin de vérifier cette hypothèse, nous allons étudier les variations de ces deux séries temporelles, via leur différence 2 à 2."
   ]
  },
  {
   "cell_type": "markdown",
   "metadata": {},
   "source": [
    "### Corrélation de la différence\n",
    "\n",
    "Nous réalisons le même test que précédemment, mais sur les différences de ces séries."
   ]
  },
  {
   "cell_type": "code",
   "execution_count": null,
   "metadata": {},
   "outputs": [],
   "source": [
    "plt.scatter(x=dfAda.Close.diff(), y=dfBtc.Close.diff())\n",
    "\n",
    "print(\"Correlation :\", dfAda.Close.diff().corr(dfBtc.Close.diff()))"
   ]
  },
  {
   "cell_type": "markdown",
   "metadata": {},
   "source": [
    "Nous notons que la corrélation a fortement baissée (il est plus difficile de tracer une droite représentant ces données), mais une corrélation est toujours présente. Et il nous reste un problème à régler : si nous voulons utiliser la prédiction du `btc` pour prédire l'`ada`, il faut utiliser le prix du `btc` un jour avant. \n",
    "\n",
    "Nous devons donc étudier la corrélation entre le `btc` décaler d'un jour en moins et l'`ada`."
   ]
  },
  {
   "cell_type": "markdown",
   "metadata": {},
   "source": [
    "### Corrélation de la différence en décalant le Bitcoin de 1 jour en arrière\n",
    "\n",
    "Pour décaler une série temporelle d'une \"case\" en arière, il faut utiliser la fonction `shift(-1)`, applicable sur une `DataFrame`.\n",
    "\n"
   ]
  },
  {
   "cell_type": "code",
   "execution_count": null,
   "metadata": {},
   "outputs": [],
   "source": [
    "dfBtc.shift(-1).head()"
   ]
  },
  {
   "cell_type": "code",
   "execution_count": null,
   "metadata": {},
   "outputs": [],
   "source": [
    "plt.scatter(x=dfAda.Close.diff(), y=dfBtc.shift(-1).diff())\n",
    "\n",
    "print(\"Correlation :\", dfAda.Close.diff().corr(dfBtc.shift(-1).Close.diff()))"
   ]
  },
  {
   "cell_type": "markdown",
   "metadata": {},
   "source": [
    "La corrélation semble maintenant quasi nulle...on observe ici un nuage de point que l'on pourrait résumer avec un cercle.\n",
    "\n",
    "### Conclusion\n",
    "\n",
    "Parfait. Vous savez maintenant étudier la corrélation entre deux valeurs mobilières. \n",
    "\n",
    "**Question(s)**:\n",
    "1. récupérer des données d'actions (CAC40, Total, des monnaies, ...)\n",
    "2. tester la corrélation entre ces données et le `btc`"
   ]
  },
  {
   "cell_type": "markdown",
   "metadata": {},
   "source": []
  }
 ],
 "metadata": {
  "kernelspec": {
   "display_name": "Python 3.7.12 ('tensorflow')",
   "language": "python",
   "name": "python3"
  },
  "language_info": {
   "codemirror_mode": {
    "name": "ipython",
    "version": 3
   },
   "file_extension": ".py",
   "mimetype": "text/x-python",
   "name": "python",
   "nbconvert_exporter": "python",
   "pygments_lexer": "ipython3",
   "version": "3.7.12"
  },
  "orig_nbformat": 4,
  "vscode": {
   "interpreter": {
    "hash": "26e703a13f136efadcc926dae761341b869ee060cc21fc1f60ec92f6b591cbb4"
   }
  }
 },
 "nbformat": 4,
 "nbformat_minor": 2
}
