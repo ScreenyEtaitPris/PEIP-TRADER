{
 "cells": [
  {
   "cell_type": "markdown",
   "metadata": {},
   "source": [
    "<p style=\"text-align:right\">Polytech Nantes</p>\n",
    "\n",
    "# Visualisations avec Pandas"
   ]
  },
  {
   "cell_type": "markdown",
   "metadata": {},
   "source": [
    "## Objectif & Plan\n",
    "\n",
    "La bibliothèque [pandas](http://pandas.pydata.org/) est connue pour faciliter la manipulation de données, mais elle offre aussi des méthodes pour l'analyse statistique et la visualisation de données. L'objectif de cette séance est d'introduire les principales méthodes pour ces tâches.\n",
    "\n",
    "A noter : [pandas](http://pandas.pydata.org/) utilise nativement [matplotlib](https://matplotlib.org) pour construire ses graphiques. [matplotlib](https://matplotlib.org) est la bibliothèque Python de référence pour la visualisation de données. Pour certains graphiques avancés qui ne sont pas proposés dans [pandas](http://pandas.pydata.org/), il faudra utiliser directement [matplotlib](https://matplotlib.org).\n",
    "\n",
    "Dans ce notebook, nous réalisons les actions suivantes:\n",
    "1. chargement des données\n",
    "2. visualisation via Pandas"
   ]
  },
  {
   "cell_type": "markdown",
   "metadata": {},
   "source": [
    "### Chargement des données\n",
    "\n",
    "Le plus simple, pour charger vos données, est tout simplement d'exécuter le Notebook '03 - Pandas.ipynb'."
   ]
  },
  {
   "cell_type": "code",
   "execution_count": null,
   "metadata": {},
   "outputs": [],
   "source": [
    "# chargement du Notebook 03 - Pandas.ipynb \n",
    "%run -i \"03 - Pandas.ipynb\"\n",
    "\n",
    "btc['Date'] = pd.to_datetime(btc['Date'])\n",
    "btc = btc.set_index('Date')\n",
    "btc.head()"
   ]
  },
  {
   "cell_type": "markdown",
   "metadata": {},
   "source": [
    "Un peu de configuration pour afficher nos futurs figures :\n",
    "- import des bibliothèques\n",
    "- paramètre pour définir la largeur / hauteur des figures\n",
    "- seaborn est une autre bibliothèque pour afficher des figures, censée être plus simple que matplot (mais aussi basé sur cette dernière)"
   ]
  },
  {
   "cell_type": "code",
   "execution_count": null,
   "metadata": {},
   "outputs": [],
   "source": [
    "import matplotlib.pyplot as plt\n",
    "import seaborn as sns\n",
    "\n",
    "plt.rcParams['figure.figsize'] = [15, 8] # paramètre pour les figures\n"
   ]
  },
  {
   "cell_type": "markdown",
   "metadata": {},
   "source": [
    "**Questions** : \n",
    "1. vérifier que votre DataFrame `ada` est bien chargé\n",
    "2. pour chaque dataFrame, vérifier le nombre de lignes et les types des variables à l'aide des attributs `shape` et `dtypes`. Dans [pandas](http://pandas.pydata.org/), les Objects désignent des chaînes de caractères.\n",
    "3. les index sont bien les dates ? "
   ]
  },
  {
   "cell_type": "code",
   "execution_count": null,
   "metadata": {
    "scrolled": true
   },
   "outputs": [],
   "source": [
    "# vérification ada\n"
   ]
  },
  {
   "cell_type": "markdown",
   "metadata": {},
   "source": [
    "### Visualisation via Pandas\n",
    "\n",
    "Voici un exemple simple pour afficher le cours du btc:"
   ]
  },
  {
   "cell_type": "code",
   "execution_count": null,
   "metadata": {},
   "outputs": [],
   "source": [
    "btc.loc[:, \"Close\"].plot()\n"
   ]
  },
  {
   "cell_type": "markdown",
   "metadata": {},
   "source": [
    "Pour obtenir la distribution des données :"
   ]
  },
  {
   "cell_type": "code",
   "execution_count": null,
   "metadata": {},
   "outputs": [],
   "source": [
    "btc.loc[:, \"Close\"].hist(bins=10)"
   ]
  },
  {
   "cell_type": "markdown",
   "metadata": {},
   "source": [
    "**Questions**:\n",
    "1. étudier la fonction [`hist`](https://pandas.pydata.org/docs/reference/api/pandas.DataFrame.hist.html)\n",
    "2. créer la figure précédente en modifiant la couleur des barres. Une recherche Google sera néecessaire, des arguments n'apparaissant pas dans la documentation (Google `pandas hist color bar` m'a permis de trouver une réponse StackOverflow)\n",
    "3. augmenter le nombre d'intervalles jusqu'à 500 ou 1000 par exemple (vous voyez des détails plus précis mais perdez l'illusion d'une distribution continue des notes). Réduiser l'intervalle, par exemple à 10. Est ce que chaque schéma fourni la même information ?"
   ]
  },
  {
   "cell_type": "code",
   "execution_count": null,
   "metadata": {},
   "outputs": [],
   "source": [
    "# Question 2"
   ]
  },
  {
   "cell_type": "markdown",
   "metadata": {},
   "source": [
    "Un autre type de figure pour analyser la distribution, la boite à moustache :"
   ]
  },
  {
   "cell_type": "code",
   "execution_count": null,
   "metadata": {},
   "outputs": [],
   "source": [
    "btc.loc[:, 'Close'].plot.box()"
   ]
  },
  {
   "cell_type": "markdown",
   "metadata": {},
   "source": [
    "Un peu d'explication :\n",
    "- la distribution représente, pour un intervalle donné, le nombre de valeurs tombants dans cet intervalle\n",
    "- le 25-percentile représente la valeur à partir de laquelle cette sera supérieure à 25% des autres valeurs\n",
    "- un 75-percentile représente la valeur à partir de laquelle cette valeur sera supérieure à 75% des autres valeurs\n",
    "- le rectangle représente les valeurs entre le 25 et 75 percentiles.\n",
    "- la médiane est donc le 50 percentile\n",
    "- les ronds noirs sont les données aberrantes, hors normes, par rapport aux restes\n",
    "\n",
    "Une petite figure Wikipedia sera plus claire :\n",
    "<center>\n",
    "<img src=\"fig/quartile.png\" align=\"center\" width=\"300\" height=\"300\">\n",
    "</center>\n",
    "\n",
    "Affichons maintenant la distribution via une fonction de densité :"
   ]
  },
  {
   "cell_type": "code",
   "execution_count": null,
   "metadata": {},
   "outputs": [],
   "source": [
    "btc.loc[:, 'Close'].plot.density()"
   ]
  },
  {
   "cell_type": "markdown",
   "metadata": {},
   "source": [
    "On peut résumer les caractéristiques d'une distribution avec deux notions principales :\n",
    "- la **valeur centrale** : autour de quelle valeur tourne la variable ?\n",
    "- la **dispersion** : comment les valeurs de la variable sont-elles dispersées autour de la valeur centrale ?\n",
    "\n",
    "Sur un dataFrame `df`, on peut calculer ces indicateurs de la manière suivante : `df.FONCTION()` ou `df.Variable.FONCTION()`. En guise de FONCTION, vous pouvez utiliser parmi d'autres choix :\n",
    "- la médiane `median()` ou la moyenne `mean()` pour la valeur centrale,\n",
    "- l'écart-type `std()` pour la dispersion.\n",
    "\n",
    "**Questions**:\n",
    "1. calculer la médiane, la moyenne, la déviation standard de `Close` sur `btc`\n",
    "2. vérifier que cela est conforme avec la densité obtenue"
   ]
  },
  {
   "cell_type": "code",
   "execution_count": null,
   "metadata": {},
   "outputs": [],
   "source": [
    "# question 1\n"
   ]
  },
  {
   "cell_type": "markdown",
   "metadata": {},
   "source": [
    "Pour afficher plusieurs données sur une même figure :"
   ]
  },
  {
   "cell_type": "code",
   "execution_count": null,
   "metadata": {},
   "outputs": [],
   "source": [
    "ax = btc.loc[:, \"Close\"].plot()\n",
    "\n",
    "eth = pd.read_csv('./data/Coindex/coin_Ethereum.csv', sep=',')\n",
    "eth['Date'] = pd.to_datetime(eth['Date'])\n",
    "eth = eth.set_index('Date')\n",
    "eth.head()\n",
    "\n",
    "eth.loc[:, \"Close\"].plot(ax = ax)"
   ]
  },
  {
   "cell_type": "markdown",
   "metadata": {},
   "source": [
    "Un peu d'explication :\n",
    "- un appel à `hist` ou `plot` retourne un objet `Axes` (un peu de doc : `The Axes contains most of the figure elements: Axis, Tick, Line2D, Text, Polygon, etc., and sets the coordinate system.`)\n",
    "- l'objet `Axes` peut ensuite être passé en paramètre des autres affichages\n",
    "\n",
    "L'objet `Axes` nous permet ainsi de configurer la légende."
   ]
  },
  {
   "cell_type": "code",
   "execution_count": null,
   "metadata": {},
   "outputs": [],
   "source": [
    "ax = btc.loc[:, \"Close\"].plot()\n",
    "eth.loc[:, \"Close\"].plot(ax = ax)\n",
    "ax.legend([\"btc\", \"eth\"]);\n",
    "\n"
   ]
  },
  {
   "cell_type": "markdown",
   "metadata": {},
   "source": [
    "Il est aussi possible d'afficher des nuages de points, par exemple pour vérifier la corrélation entre deux variables :"
   ]
  },
  {
   "cell_type": "code",
   "execution_count": null,
   "metadata": {},
   "outputs": [],
   "source": [
    "btc.plot.scatter(x='Market Cap', y='Volume')\n"
   ]
  },
  {
   "cell_type": "markdown",
   "metadata": {},
   "source": [
    "Etudier la corrélation entre deux variables à du sens : par exemple, il est peut être intéressant d'étudier la corrélation entre le prix du `btc` et celui de l'`ada`. Si une hausse du `btc` implique une hausse du `ada`, et inversement, alors il sera intéressant d'utiliser le `btc` pour prédire l'`ada`.\n",
    "\n",
    "Réalisons maintenant un peu d'exploration visuelle sur le coins `ada`.\n",
    "\n",
    "**Questions**:\n",
    "1. afficher la distribution de `Close`\n",
    "2. créer une seule figure affichant le `Volume` et `Market Cap` de `ada`, en indiquant la légende \n",
    "3. vérifier la corrélation entre le `Volume` et `Market Cap` en calculant la corrélation (indice : cela est faisable en une seule ligne. Un peu de Google pour vous aider, `Pandas Correlation`)\n",
    "4. Etudier les différences entre les valeurs d'une série temporelle, plutôt que de travailler avec les valeurs, est très fréquent (les variations sont plus stable, et prédire une variation permet aussi de prédire la valeur future). Pour se familiariser avec une telle transformation, créer une figure affichant la différence des valeurs `Close` (différence des prix entre $t$ et $t-1$). `Pandas` a une fonction `diff`, étudier la documentation avant de vous lancer. Procéder par étape, en créant tout d'abord la nouvelle colonne. \n"
   ]
  },
  {
   "cell_type": "code",
   "execution_count": null,
   "metadata": {},
   "outputs": [],
   "source": [
    "# Question 1"
   ]
  },
  {
   "cell_type": "code",
   "execution_count": null,
   "metadata": {},
   "outputs": [],
   "source": [
    "# Question 2"
   ]
  },
  {
   "cell_type": "code",
   "execution_count": null,
   "metadata": {},
   "outputs": [],
   "source": [
    "# Question 3"
   ]
  },
  {
   "cell_type": "code",
   "execution_count": null,
   "metadata": {},
   "outputs": [],
   "source": [
    "# Question 4"
   ]
  },
  {
   "cell_type": "markdown",
   "metadata": {},
   "source": []
  }
 ],
 "metadata": {
  "kernelspec": {
   "display_name": "Python 3.9.12 ('base')",
   "language": "python",
   "name": "python3"
  },
  "language_info": {
   "codemirror_mode": {
    "name": "ipython",
    "version": 3
   },
   "file_extension": ".py",
   "mimetype": "text/x-python",
   "name": "python",
   "nbconvert_exporter": "python",
   "pygments_lexer": "ipython3",
   "version": "3.9.12"
  },
  "toc": {
   "base_numbering": 1,
   "nav_menu": {},
   "number_sections": true,
   "sideBar": true,
   "skip_h1_title": false,
   "title_cell": "Table of Contents",
   "title_sidebar": "Contents",
   "toc_cell": false,
   "toc_position": {},
   "toc_section_display": true,
   "toc_window_display": false
  },
  "vscode": {
   "interpreter": {
    "hash": "25b24fd06369b3c3e6b07dac28bcf825c0f4da95ef841965a93f10e220334cd3"
   }
  }
 },
 "nbformat": 4,
 "nbformat_minor": 2
}
