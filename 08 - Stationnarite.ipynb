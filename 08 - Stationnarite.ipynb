{
 "cells": [
  {
   "cell_type": "markdown",
   "metadata": {},
   "source": [
    "## Stationnarité\n",
    "\n",
    "Ce notebook a été construit à partir de la source suivante : [*Practical Time Series Analysis, Prediction with Statistics & Machine Learning*, Aileen Nielsen, 2020](https://www.oreilly.com/library/view/practical-time-series/9781492041641/).\n",
    "\n",
    "Pour rappel, les modèles courants de prédiction fonctionne sur des séries temporelles stationnaire. En pratique, cela veut dire que la série doit être \"stable\" dans le temps. Plus formellement, une série est stationnaire si ses propriétés statistiques ne changent pas au cours du temps. Les propriétés statistiques sont la moyenne, la variance, l'autocorrélation, ... \n",
    "\n",
    "Ainsi, une série avec une tendance ou bien une saisonnalité n'est pas stationnaire. \n",
    "\n",
    "Dans ce notebook, nous allons étudier :\n",
    "1. comment tester si une méthode est stationnaire ou non stationnaire\n",
    "2. comment transformer une série temporelle non stationnaire en série stationnaire\n",
    "\n",
    "Quelques méthodes pour rendre une série stationnaire :\n",
    "- application de fonction log, racine carré ou racine cubique, dans le cas où la variance des données change\n",
    "- par différentiation, pour supprimer une tendance dans la série\n"
   ]
  },
  {
   "cell_type": "markdown",
   "metadata": {},
   "source": [
    "## Load Serie"
   ]
  },
  {
   "cell_type": "code",
   "execution_count": null,
   "metadata": {},
   "outputs": [],
   "source": [
    "%run -i \"05 - LoadData.ipynb\"\n",
    "plt.rcParams['figure.figsize'] = [15, 8]"
   ]
  },
  {
   "cell_type": "markdown",
   "metadata": {},
   "source": [
    "### Visualisation\n",
    "\n",
    "Avant de tester la stationnarité de votre série, il est intéressant d'afficher quelques statistiques afin de vérifier si elle est stationnaire ou non.\n",
    "\n",
    "Cela peut être fait en calculant une moyenne et une variance sur une fenêtre temporelle mobile donnée (moving average). Cette méthode de smoothing a déjà été présentée dans un précédent notebook.\n",
    "\n"
   ]
  },
  {
   "cell_type": "code",
   "execution_count": null,
   "metadata": {},
   "outputs": [],
   "source": [
    "serie = data.Close\n",
    "window = 31\n",
    "\n",
    "rolmean = serie.rolling(window=window).mean()\n",
    "rolstd = serie.rolling(window=window).std()\n",
    "\n",
    "plt.plot(serie, color='blue',label='Original')\n",
    "plt.plot(rolmean, color='red', label='Rolling Mean')\n",
    "plt.plot(rolstd, color='black', label = 'Rolling Std')\n",
    "plt.legend(loc='best')\n",
    "plt.title('Rolling Mean & Standard Deviation')\n",
    "plt.tight_layout()\n",
    "plt.show()"
   ]
  },
  {
   "cell_type": "markdown",
   "metadata": {},
   "source": [
    "Nous pouvons voir ici que ni la moyenne ni la variance ne semble stationnaire. Une autre méthode, basée sur le calcul, est aussi utilisable."
   ]
  },
  {
   "cell_type": "markdown",
   "metadata": {},
   "source": [
    "### Test de stationarité\n",
    "\n",
    "Le test de Augmented Dickey–Fuller (ADF) est le plus utilisé pour vérifier la stationnarité d'une série temporelle. Nous vous fournissons la fonction suivante pour tester directement vos série.\n",
    "\n",
    "La fonction prend en paramètre une série et un niveau de risque (par défaut \"1%\"), et retourne vrai si la série est stationnaire. Ce test est un test d'hypothèse : l'hypothèse nulle est que la série est stationnaire et l'hypothèse alternative est que la série est non stationnaire. Le paramètre \"risk\" indique le risque que nous sommes prêt à prendre si l'on refuse la mauvaise hypothèse. Plus le risque est petit, plus on augmente nos chances de ne pas se tromper sur notre choix de l'hypothèse retenue.\n",
    "\n",
    "En pratique, cette fonction vous affichera les valeurs critiques pour chaque niveau de risque. Pour que la série soit stationnaire, il faut vérifier que le test statistique soit inférieure à la valeur critique associée à votre niveau de risque.\n",
    "\n",
    "Voici la fonction pour calculer le test de Dickey–Fuller (ADF) :"
   ]
  },
  {
   "cell_type": "code",
   "execution_count": null,
   "metadata": {},
   "outputs": [],
   "source": [
    "def testStationnairy(serie, risk=\"1%\"):\n",
    "    '''\n",
    "    @param risk: \"1%\", \"5%\", \"10%\"\n",
    "    '''\n",
    "\n",
    "    result = adfuller (serie)\n",
    "    \n",
    "    print('Test Statistic: %f' %result[0])\n",
    "    print('p-value: %f' %result[1])\n",
    "    print('Critical values:')\n",
    "    for key, value in result[4].items ():\n",
    "        print('\\t%s: %.3f' %(key, value))\n",
    "\n",
    "    testStatistic = result[0]\n",
    "    criticalValue = result[4][risk]\n",
    "\n",
    "    print(\"Test : \", testStatistic , \"(Test Statistic) < \", criticalValue, \" (1% critical value) ?\")\n",
    "\n",
    "    return testStatistic < criticalValue"
   ]
  },
  {
   "cell_type": "markdown",
   "metadata": {},
   "source": [
    "On peut ainsi tester notre série :"
   ]
  },
  {
   "cell_type": "code",
   "execution_count": null,
   "metadata": {},
   "outputs": [],
   "source": [
    "testStationnairy(data.Close)"
   ]
  },
  {
   "cell_type": "markdown",
   "metadata": {},
   "source": [
    "Sans rentrer dans les détails, voici comment nous allons utiliser ce test: si elle retourne `False` alors la série n'est pas stationnaire. Il est ainsi nécessaire d'appliquer des transformations pour rendre cette série stationnaire.\n",
    "\n",
    "Pour ce faire, plusieurs méthodes sont possibles :\n",
    "- décomposer la série temporelle via sa tendance, sa saisonnalité et son résidu (méthode vue dans un précédent Notebook)\n",
    "- travailler sur les différences terme à terme de la série\n",
    "- appliquer une fonction log, racine carré, racine cubique, ...\n",
    "\n",
    "Vous avez maintenant les compétences pour réaliser de tels traitements. Vous allez donc dans la suite appliquer ces traitements sur vos données de sécurité et vérifier si la série devient stationnaire ou non.\n",
    "\n",
    "### Différenciation\n",
    "\n",
    "Le premier test concerne l'approche par différenciation : au lieu d'étudier la série initiale, nous allons étudier celle de la différence de terme à terme. \n",
    "\n",
    "Cette méthode est très courante et cela s'explique par les raisons suivantes :\n",
    "- elle est simple à mettre en oeuvre\n",
    "- elle permet toujours de faire de la prédiction sur nos données, puisque on peut facilement récupérer la prédiction t+1, en ajoutant la différence prédite à la donnée de l'instant t \n",
    "\n",
    "**Questions** :\n",
    "1. consulter la document de `DataFrame.diff(periods=1, axis=0)`\n",
    "2. générer la série temporelle par différenciation\n",
    "3. afficher les 2 série sur un même graphique\n",
    "4. tester si la série par différentiation est stationnaire\n",
    "5. si non, ré-appliquer une différentiation sur la série déjà obtenue et re-tester la différentiation"
   ]
  },
  {
   "cell_type": "code",
   "execution_count": null,
   "metadata": {},
   "outputs": [],
   "source": [
    "# diff\n"
   ]
  },
  {
   "cell_type": "code",
   "execution_count": null,
   "metadata": {},
   "outputs": [],
   "source": [
    "# afficher\n"
   ]
  },
  {
   "cell_type": "code",
   "execution_count": null,
   "metadata": {},
   "outputs": [],
   "source": [
    "# test stationnarite\n"
   ]
  },
  {
   "cell_type": "markdown",
   "metadata": {},
   "source": [
    "### Log & racine\n",
    "\n",
    "Une autre méthode consiste à appliquer les fonctions log, racine, racine cubique sur la série.\n",
    "\n",
    "\n",
    "### Questions\n",
    "1. générer les séries temporelles\n",
    "2. afficher les séries. Ont-elle l'air plus stationnaire que la version initiale ?\n",
    "3. vérifier si elles sont stationnaires ou non"
   ]
  },
  {
   "cell_type": "code",
   "execution_count": null,
   "metadata": {},
   "outputs": [],
   "source": [
    "# génération des séries - utiliser numpy.log, numpy.sqrt, ...\n"
   ]
  },
  {
   "cell_type": "code",
   "execution_count": null,
   "metadata": {},
   "outputs": [],
   "source": [
    "# affichage \n"
   ]
  },
  {
   "cell_type": "code",
   "execution_count": null,
   "metadata": {},
   "outputs": [],
   "source": [
    "# test stationnarité\n"
   ]
  },
  {
   "cell_type": "markdown",
   "metadata": {},
   "source": []
  },
  {
   "cell_type": "markdown",
   "metadata": {},
   "source": []
  }
 ],
 "metadata": {
  "kernelspec": {
   "display_name": "Python 3.7.12 ('tensorflow')",
   "language": "python",
   "name": "python3"
  },
  "language_info": {
   "codemirror_mode": {
    "name": "ipython",
    "version": 3
   },
   "file_extension": ".py",
   "mimetype": "text/x-python",
   "name": "python",
   "nbconvert_exporter": "python",
   "pygments_lexer": "ipython3",
   "version": "3.7.12"
  },
  "vscode": {
   "interpreter": {
    "hash": "26e703a13f136efadcc926dae761341b869ee060cc21fc1f60ec92f6b591cbb4"
   }
  }
 },
 "nbformat": 4,
 "nbformat_minor": 4
}
