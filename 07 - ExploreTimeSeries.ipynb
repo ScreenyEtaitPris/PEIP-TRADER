{
 "cells": [
  {
   "cell_type": "markdown",
   "metadata": {},
   "source": [
    "## Méthode d'exploration et d'analyse\n",
    "\n",
    "Dans ce notebook, nous allons découvrir des méthodes basiques pour explorer et analyser une série temporelle. L'objectif est de pouvoir préparer correctement les données avant de tenter d'apprendre un modèle de prédiction.\n",
    "\n",
    "Ce notebook a été construit à partir de la source suivante : [*Practical Time Series Analysis, Prediction with Statistics & Machine Learning*, Aileen Nielsen, 2020](https://www.oreilly.com/library/view/practical-time-series/9781492041641/).\n",
    "\n",
    "Les méthodes décritent dans ce notebook sont les suivantes :\n",
    "- nettoyage des données\n",
    "- sélection de la granularité temporelle\n",
    "- visualisation par histogramme\n",
    "- saisonnalité / tendance / résidue des données\n",
    "- smoothing\n",
    "\n",
    "Nous commençons par charger quelques bibliothèques que nous allons utiliser dans la suite :\n"
   ]
  },
  {
   "cell_type": "code",
   "execution_count": null,
   "metadata": {},
   "outputs": [],
   "source": [
    "import pandas as pd\n",
    "import os\n",
    "import matplotlib.pyplot as plt\n",
    "\n",
    "from statsmodels.tsa.seasonal import seasonal_decompose\n",
    "from statsmodels.tsa.holtwinters import SimpleExpSmoothing\n",
    "\n",
    "plt.rcParams['figure.figsize'] = [15, 8]"
   ]
  },
  {
   "cell_type": "markdown",
   "metadata": {},
   "source": [
    "### Chargement des données\n",
    "\n",
    "Pour illuster les différentes méthodes précédentes, nous allons travailler sur un jeu de données *école* dans le domaine des séries temporelles : le nombre de passager de compagnies aériennes.\n",
    "\n",
    "**Questions**:\n",
    "1. étudier le fichier `Air_Traffic_Passenger_Statistics.csv`\n",
    "2. créer un dataframe à partir de ce fichier, en prenant la première ligne comme colonne de ce dataframe\n",
    "3. sélectionner les deux colonnes nous intéressant, `['Activity Period', 'Passenger Count']`\n",
    "4. utiliser les dates comme index\n",
    "5. documenter vous sur la commande `groupby` de Pandas\n",
    "7. faire un `groupby` en appliquant une fonction d'aggrégation sur les sous groupes, pour obtenir la somme des passagers sur chaque mois de l'année (il faut sommer le nombre de passagers de toutes les compagnies) \n",
    "8. afficher les premières lignes du dataframe pour vérifier que tout est bon\n",
    "9. afficher les données, avec en X les timestamp, et en Y le nombre de passagers"
   ]
  },
  {
   "cell_type": "code",
   "execution_count": null,
   "metadata": {},
   "outputs": [],
   "source": [
    "fileName = 'Air_Traffic_Passenger_Statistics.csv'\n",
    "\n",
    "data = ...\n",
    "\n",
    "# selection colonnes\n",
    "data = ...\n",
    "\n",
    "# index sur les dates\n",
    "data['Activity Period'] = ...\n",
    "\n",
    "# groupby avec sum()\n",
    "data = ...\n",
    "\n",
    "data.head()"
   ]
  },
  {
   "cell_type": "code",
   "execution_count": null,
   "metadata": {},
   "outputs": [],
   "source": [
    "# affichage \n"
   ]
  },
  {
   "cell_type": "markdown",
   "metadata": {},
   "source": [
    "Si tout se passe bien, vous devez obtenir une courbe croissante, s'écrasant en 2020, avec des variations saisonnales."
   ]
  },
  {
   "cell_type": "markdown",
   "metadata": {},
   "source": [
    "## Nettoyage et granularité\n",
    "\n",
    "La première chose à vérifier est l'axe des timestamp de cette série temporelle. Nous allons voir qu'il est possible de simplifier les données rien qu'en changeant la granularité de cet axe.\n",
    "\n",
    "**Questions** : \n",
    "1. quelle est la granularité de cette série ?\n",
    "2. avez vous des timestamp manquants ? un nombre de passager nulle pour une date précise ?\n",
    "3. la granularité est elle correcte ? une granularité par année serait mieux ?\n",
    "4. Pour le vérifier :\n",
    "    1. créer une copie du dataframe `data` (dans une variable `dataYear`)\n",
    "    2. ajouter une colonne gardant l'année de chaque index\n",
    "    3. faire un `groupby` avec une fonction d'aggrégation de somme pour obtenir la somme des passagers par année\n",
    "    4. afficher les données, avec en X les timestamp, et en Y le nombre de passager\n",
    "5. quelle information perd-t-on en regroupant par année ?\n",
    "\n"
   ]
  },
  {
   "cell_type": "code",
   "execution_count": null,
   "metadata": {},
   "outputs": [],
   "source": [
    "\n",
    "# dfCopy = df.copy() permet de copier un dataFrame\n",
    "dataYear = ...\n",
    "\n",
    "# df.index permet d'accéder à l'index d'un dataframe\n",
    "# df.col.to_period(X) permet de changer le format d'un timestamp d'une colonne (ou d'un index, via `df.index`), avec en paramètre 'Y' pour garder l'année, 'M' pour garder le mois, ...\n",
    "dataYear['year'] = ...\n",
    "\n",
    "# groupby\n",
    "dataYear = ...\n",
    "\n",
    "dataYear.head()"
   ]
  },
  {
   "cell_type": "code",
   "execution_count": null,
   "metadata": {},
   "outputs": [],
   "source": [
    "# affichage\n"
   ]
  },
  {
   "cell_type": "markdown",
   "metadata": {},
   "source": [
    "Sur la figure précédente, vous pouvez noter que la courbe obtenue est en quelque sorte une version simplifiée de nos données initiales. Simplifiées mais plus lisible, pour par exemple étudier la tendance de nos données. Ici, nous voyons bien que le nombre de passager augmente au fil des ans. \n",
    "\n",
    "Simplifier une série temporelle peut être intéressant pour étudier les données. Nous allons revenir sur ce point, après avoir présenté des méthodes de visualisation et puis avoir étudié comment est décomposée une série temporelle.\n"
   ]
  },
  {
   "cell_type": "markdown",
   "metadata": {},
   "source": [
    "## Visualisation\n",
    "\n",
    "La première chose à faire quand on analyse des données est de tenter de les afficher. Nous avons déjà des méthodes pour réaliser cette tâche dans les notebooks précédents. Reprenons nos données avec une granularité par mois (avec la somme de passagers de toutes les compagnies) et allons-y pour un histogramme afin de voir la distribution des valeurs."
   ]
  },
  {
   "cell_type": "code",
   "execution_count": null,
   "metadata": {},
   "outputs": [],
   "source": [
    "data.hist(bins=100)"
   ]
  },
  {
   "cell_type": "markdown",
   "metadata": {},
   "source": [
    "L'histogramme précédent, sur nos données de passagers, nous montre qu'il y a beaucoup de valeurs hautes, ce qui est lié à la tendance haussière du nombre de passager. \n",
    "\n",
    "Un histogramme nous fournit l'information suivante : le nombre de valeurs qui apparaissent dans chaque sous ensemble défini sur l'axe des X. Dans notre contexte de série temporelle, une information plus intéressante peut être obtenue en étudiant les variations de valeurs. Notre objectif étant de prévoir ces variations, il est intéressant d'afficher sous forme d'histogramme le nombre de hausses et baisses de nos données.\n",
    "\n",
    "L'idée consiste donc à transformer nos données en calculant la différence des jours 2 à 2, ce qui se réalise très facilement sur une série, via la fonction `diff()`.\n",
    "\n",
    "### Questions :\n",
    "1. documenter vous sur la fonction `diff`\n",
    "2. générer les données de différence des jours 2 à 2\n",
    "3. afficher l'histogramme de ces données\n"
   ]
  },
  {
   "cell_type": "code",
   "execution_count": null,
   "metadata": {},
   "outputs": [],
   "source": [
    "# diff\n",
    "diff =\n",
    "\n",
    "# affichage d'un histogramme des différences\n",
    "diff...."
   ]
  },
  {
   "cell_type": "markdown",
   "metadata": {},
   "source": [
    "Voici comment interpréter notre histogramme:\n",
    "- chaque cellule définie sur X nous indique le nombre de fois où une telle hausse est apparue\n",
    "- en X, à gauche du 0, ce sont les baisses, à droite, les hausses. On note qu'il y a plus de hausses que de baisses, ce qui rejoint la tendance haussière du nombre de passagers."
   ]
  },
  {
   "cell_type": "markdown",
   "metadata": {},
   "source": [
    "## Saisonnalité, tendance et résidue\n",
    "\n",
    "Maintenant que nous avons vu que les données étaient propres, et que la granularité mensuelle permettait de garder l'information de saisonnalité, nous pouvons maintenant définir un peu mieux la notion de saisonnalité.\n",
    "\n",
    "Beaucoup de séries temporelles sont liées à des activités humaines, elles-même liées au rythme des saisons. Le pic des vols étant réalisé pour les départs en vacances, nous observons une notion de période qui se répète tous les ans. En plus de cette période, nous observons aussi une tendance haussière au fil des ans du nombre de passager.\n",
    "\n",
    "Une telle série temporelle peut ainsi être définie par trois composantes : la saisonnalité, la tendance et le résidu, qui ne peut être expliqué facilement. En mathématique, cela donnerait :\n",
    "\n",
    "$$\n",
    "Y[t] = S[t] + T[t] + R[t]\n",
    "$$\n",
    "Avec $S[t]$ la fonction de saisonnalité à l'instant $t$, $T[t]$ la tendance et $R[t]$ le résidue.\n",
    "\n",
    "L'utilité de cette décomposition est malheureusement motivée par le fait suivant : la majorité des modèles de prédictions fonctionne sur des séries temporelles stationnaires, une série dont la moyenne glissante reste stable. Ce qui veut dire que la série ne doit avoir ni de saisonnalité, ni de tendance. Donc pour appliquer ce type de modèle de prédiction, il faut donc déshabiller votre série...pour qu'il ne reste que le résidue... \n",
    "\n",
    "**Questions**:\n",
    "1. Utiliser la fonction `seasonal_decompose(dataframe)` pour obtenir la décomposition précédente sur les données de passagers aériens\n",
    "- l'objet retourné par cette fonction contient lui-même trois objets nommé `trend`, `seasonal` et `resid`\n",
    "- ces trois objets sont des séries Pandas\n",
    "2. Afficher les données initiales, la tendance, la saisonnalité et le résidue obtenues\n",
    "- la fonction `plt.subplot(411)` permet de créer une figure contenant elle même 4 lignes et une colonne. Le dernier `1` permet de dire que le prochain appelle affichera la première figure (première ligne de la seule colonne)\n",
    "- `plt.subplot(412)` indique que vous passez sur la deuxième figure, et ainsi de suite"
   ]
  },
  {
   "cell_type": "code",
   "execution_count": null,
   "metadata": {},
   "outputs": [],
   "source": [
    "# decomposition\n",
    "\n",
    "decomposition = ...\n",
    "\n",
    "trend = ...\n",
    "seasonal = ...\n",
    "residual = ...\n"
   ]
  },
  {
   "cell_type": "code",
   "execution_count": null,
   "metadata": {},
   "outputs": [],
   "source": [
    "# affichage \n",
    "\n",
    "plt.subplot(411)\n",
    "plt.plot(data, label='original')\n",
    "plt.legend(loc=\"best\")\n",
    "plt.subplot(412)\n",
    "plt.plot(trend, label='Trend')\n",
    "plt.legend(loc=\"best\")\n",
    "plt.subplot(413)\n",
    "plt.plot(seasonal, label='Seasonal')\n",
    "plt.legend(loc=\"best\")\n",
    "plt.subplot(414)\n",
    "plt.plot(residual, label='Residuals')\n",
    "plt.legend(loc=\"best\")\n",
    "plt.tight_layout()"
   ]
  },
  {
   "cell_type": "markdown",
   "metadata": {},
   "source": [
    "La dernière figure représente donc ce sur quoi les modèles de prédiction peuvent généralement travailler.\n",
    "\n",
    "## Smoothing\n",
    "\n",
    "Nous pouvons maintenant revenir sur les méthodes de simplification (_smoothing_) d'une série temporelle. \n",
    "L'objectif de ces méthodes est de pouvoir faire apparaitre les _pattern_ des séries temporelles.  \n",
    "\n",
    "De nombreuses méthodes existent pour _adoucir_ une série temporelle. L'idée est de remplacer les données par une moyenne de ces données réalisées sur une fenêtre d'une certaine taille. En pratique, la génération de la série temporelle simplifiée est réalisée comme suit :\n",
    "1. on se positionne sur la position x de la série\n",
    "2. à partir de x, on récupère les _window_ données aux alentours du point x\n",
    "3. on ajoute la moyenne de ces points dans la série \n",
    "\n",
    "L'étape 2 a plusieurs variantes : la sélection des _window_ données peut se faire à gauche du point, ou bien x peut être centré sur la fenêtre. Dans ce dernier cas, attention car des données futures sont utilisées pour calculer la moyenne. Dans un contexte d'apprentissage de modèle pour faire de la prédiction, cela n'est pas possible/acceptable (le modèle appris nous donnera de bon résultats de prédiction, mais ce même modèle utilisé en situation réelle aura des résultats moins bons).\n",
    "\n",
    "Notez que certaines données initiales de la série temporelle ne pourront pas être utilisées. La première donnée n'a aucun voisin sur sa gauche, et on ne peut donc pas calculer de moyenne sur ce point. Cela est aussi valable pour la fin de la série si vous utilisez une moyenne centrée (ce qui n'est pas le cas pour une moyenne à partir des données passées).\n",
    "\n",
    "En Pandas, la méthode `pandas.DataFrame.rolling` fournit une implémentations de ces algorithmes.\n",
    "\n",
    "**Question(s)**:\n",
    "1. étudier la fonction `pandas.DataFrame.rolling`\n",
    "2. supprimer les valeurs `Nan` du résidu\n",
    "3. _smoothingnitiser_ le résidu avec la `window` centrée et gauche\n",
    "4. afficher le `head` et `tail` des séries obtenus\n",
    "5. afficher les séries `residu`, `smoothTrail`, `smoothCentered`"
   ]
  },
  {
   "cell_type": "code",
   "execution_count": null,
   "metadata": {},
   "outputs": [],
   "source": [
    "# Questions 1-2-3\n",
    "\n",
    "# suppression Nan\n",
    "residual = residual.dropna()\n",
    "\n",
    "residual.head()\n",
    "\n",
    "# smoothTrail et smoothCentered\n",
    "smoothTrail = ...\n",
    "smoothCentered = ...\n"
   ]
  },
  {
   "cell_type": "markdown",
   "metadata": {},
   "source": [
    "Notez qu'après le calcul des moyennes, certaines valeurs sont nulles :"
   ]
  },
  {
   "cell_type": "code",
   "execution_count": null,
   "metadata": {},
   "outputs": [],
   "source": [
    "# Question 4\n",
    "\n",
    "# affichage head et trail de smoothTrail et smoothCentered"
   ]
  },
  {
   "cell_type": "markdown",
   "metadata": {},
   "source": [
    "On peut maintenant afficher le résidue _adouci_ :"
   ]
  },
  {
   "cell_type": "code",
   "execution_count": 22,
   "metadata": {},
   "outputs": [],
   "source": [
    "# Question 5 - affichage des trois courbes sur une même figure, avec une légende\n"
   ]
  },
  {
   "cell_type": "markdown",
   "metadata": {},
   "source": [
    "La courbe verte représente la version centrée et la courbe orange la version à gauche :\n",
    "- la courbe `smoothTrail` commence après le début de la série initiale et finit bien sur sa fin\n",
    "- la courbe `smoothCentered` commence après le début de la série temporelle initiale (mais moins longtemps après que la version à gauche) et finit avant la fin (et avant la version gauche)\n",
    "- la version à gauche est un peu en retard au niveau variation de la série initiale (les pics ont lieu un peu après le pic de la série)\n",
    "- la version centrée a des pics plus en phase sur la série initiale, ce qui est normal vu qu'on utilise des données futures \n",
    "\n",
    "## Conclusion\n",
    "\n",
    "Nous en avons fini avec des méthodes de visualisation / simplification de série temporelle. Vous pourrez maintenant utiliser ces méthodes pour étudier vos propres séries temporelles. \n",
    "\n",
    "On peut maintenant continuer à implémenter nos stratégies de trader, en utilisant ces nouvelles connaissances.\n",
    "\n",
    "Voici une stratégie de tradeur, récupérée sur le web, restant assez simple, et basée sur la moyenne mobile :\n",
    "- Règle 1 : lorsque le prix est supérieur à la moyenne mobile, allez seulement à l'achat;\n",
    "- Règle 2 : lorsque le prix est inférieur à la moyenne mobile, allez seulement à la vente.\n"
   ]
  },
  {
   "cell_type": "markdown",
   "metadata": {},
   "source": [
    "**Questions**:\n",
    "1. documenter vous sur les marchés haussier / baissier \n",
    "   [https://fr.wikipedia.org/wiki/Tendance_(%C3%A9conomie)]\n",
    "2. implémenter la stratégie \n",
    "3. tester cette stratégie avec plusieurs séries temporelles, en prenant un contexte haussier et baissier.\n"
   ]
  },
  {
   "cell_type": "markdown",
   "metadata": {},
   "source": []
  }
 ],
 "metadata": {
  "kernelspec": {
   "display_name": "Python 3.7.12 ('tensorflow')",
   "language": "python",
   "name": "python3"
  },
  "language_info": {
   "codemirror_mode": {
    "name": "ipython",
    "version": 3
   },
   "file_extension": ".py",
   "mimetype": "text/x-python",
   "name": "python",
   "nbconvert_exporter": "python",
   "pygments_lexer": "ipython3",
   "version": "3.7.12"
  },
  "orig_nbformat": 4,
  "vscode": {
   "interpreter": {
    "hash": "26e703a13f136efadcc926dae761341b869ee060cc21fc1f60ec92f6b591cbb4"
   }
  }
 },
 "nbformat": 4,
 "nbformat_minor": 2
}
