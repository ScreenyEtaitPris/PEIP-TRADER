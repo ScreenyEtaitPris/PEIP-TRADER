{
 "cells": [
  {
   "attachments": {
   },
   "cell_type": "markdown",
   "metadata": {
    "collapsed": false
   },
   "source": [
    "### Test des classes de bases\n",
    "\n",
    "Vous trouverez ici les dernières versions des classes de base du jeu."
   ]
  },
  {
   "cell_type": "code",
   "execution_count": 2,
   "metadata": {
    "collapsed": false
   },
   "outputs": [
    {
     "name": "stdout",
     "output_type": "stream",
     "text": [
      "data/Coincodex/coin_Cardano.csv\n",
      "Coincodex  -  Index(['Open', 'High', 'Low', 'Close', 'Volume', 'Market Cap'], dtype='object')\n",
      "Coincodex [ Cardano ]  charged\n",
      "-----------------\n",
      "data/Coincodex/coin_Cardano.csv\n"
     ]
    },
    {
     "name": "stdout",
     "output_type": "stream",
     "text": [
      "Coincodex  -  Index(['Open', 'High', 'Low', 'Close', 'Volume', 'Market Cap'], dtype='object')\n",
      "Coincodex [ Cardano ]  charged\n",
      "data/Coincodex/coin_Aave.csv\n",
      "Coincodex [ Aave ]  not charged\n",
      "data/Coincodex/coin_Bitcoin.csv\n"
     ]
    },
    {
     "name": "stdout",
     "output_type": "stream",
     "text": [
      "Coincodex  -  Index(['Open', 'High', 'Low', 'Close', 'Volume', 'Market Cap'], dtype='object')\n",
      "Coincodex [ Bitcoin ]  charged\n",
      "data/Coincodex/coin_Cosmos.csv\n",
      "Coincodex [ Cosmos ]  not charged\n",
      "data/Coincodex/coin_Dogecoin.csv\n",
      "Coincodex [ Dogecoin ]  not charged\n",
      "data/Coincodex/coin_Ethereum.csv\n"
     ]
    },
    {
     "name": "stdout",
     "output_type": "stream",
     "text": [
      "Coincodex  -  Index(['Open', 'High', 'Low', 'Close', 'Volume', 'Market Cap'], dtype='object')\n",
      "Coincodex [ Ethereum ]  charged\n",
      "data/Coincodex/coin_Litecoin.csv\n",
      "Coincodex [ Litecoin ]  not charged\n",
      "data/Coincodex/coin_Monero.csv\n",
      "Coincodex [ Monero ]  not charged\n",
      "data/Coincodex/coin_Polkadot.csv\n",
      "Coincodex [ Polkadot ]  not charged\n",
      "data/Coincodex/coin_USDCoin.csv\n",
      "Coincodex [ USDCoin ]  not charged\n",
      "data/Coincodex/coin_Microsoft.csv\n",
      "Coincodex [ Microsoft ]  not charged\n",
      "data/Coincodex/coin_AT&T.csv\n",
      "Coincodex [ AT&T ]  not charged\n",
      "data/Coincodex/coin_cac40.csv\n",
      "Coincodex [ cac40 ]  not charged\n",
      "----------------- 2024-01-01\n",
      "-----------------\n",
      "data/Coincodex/coin_Cardano.csv\n",
      "Coincodex  -  Index(['Open', 'High', 'Low', 'Close', 'Volume', 'Market Cap'], dtype='object')\n",
      "Coincodex [ Cardano ]  charged\n",
      "data/Coincodex/coin_Aave.csv\n",
      "Coincodex [ Aave ]  not charged\n",
      "data/Coincodex/coin_Bitcoin.csv\n"
     ]
    },
    {
     "name": "stdout",
     "output_type": "stream",
     "text": [
      "Coincodex  -  Index(['Open', 'High', 'Low', 'Close', 'Volume', 'Market Cap'], dtype='object')\n",
      "Coincodex [ Bitcoin ]  charged\n",
      "data/Coincodex/coin_Cosmos.csv\n",
      "Coincodex [ Cosmos ]  not charged\n",
      "data/Coincodex/coin_Dogecoin.csv\n",
      "Coincodex [ Dogecoin ]  not charged\n",
      "data/Coincodex/coin_Ethereum.csv\n"
     ]
    },
    {
     "name": "stdout",
     "output_type": "stream",
     "text": [
      "Coincodex  -  Index(['Open', 'High', 'Low', 'Close', 'Volume', 'Market Cap'], dtype='object')\n",
      "Coincodex [ Ethereum ]  charged\n",
      "data/Coincodex/coin_Litecoin.csv\n",
      "Coincodex [ Litecoin ]  not charged\n",
      "data/Coincodex/coin_Monero.csv\n",
      "Coincodex [ Monero ]  not charged\n",
      "data/Coincodex/coin_Polkadot.csv\n",
      "Coincodex [ Polkadot ]  not charged\n",
      "data/Coincodex/coin_USDCoin.csv\n",
      "Coincodex [ USDCoin ]  not charged\n",
      "data/Coincodex/coin_Microsoft.csv\n",
      "Coincodex [ Microsoft ]  not charged\n",
      "data/Coincodex/coin_AT&T.csv\n",
      "Coincodex [ AT&T ]  not charged\n",
      "data/Coincodex/coin_cac40.csv\n",
      "Coincodex [ cac40 ]  not charged\n",
      "----------------- True\n"
     ]
    },
    {
     "ename": "SyntaxError",
     "evalue": "invalid syntax (<ipython-input-2-ac34cc2d81b1>, line 4)",
     "output_type": "error",
     "traceback": [
      "\u001b[0;36m  File \u001b[0;32m\"<ipython-input-2-ac34cc2d81b1>\"\u001b[0;36m, line \u001b[0;32m4\u001b[0m\n\u001b[0;31m    def __init__(self,\"StrategyRandom\"):\u001b[0m\n\u001b[0m                      ^\u001b[0m\n\u001b[0;31mSyntaxError\u001b[0m\u001b[0;31m:\u001b[0m invalid syntax\n"
     ]
    }
   ],
   "source": [
    "%run -i \"Loader.ipynb\"\n",
    "%run -i \"BaseClasses.ipynb\"\n",
    "%run -i \"Strategies.ipynb\""
   ]
  },
  {
   "attachments": {
   },
   "cell_type": "markdown",
   "metadata": {
    "collapsed": false
   },
   "source": [
    "### Test loader"
   ]
  },
  {
   "cell_type": "code",
   "execution_count": 39,
   "metadata": {
    "collapsed": false
   },
   "outputs": [
    {
     "name": "stdout",
     "output_type": "stream",
     "text": [
      "-----------------\n",
      "data/Coincodex/coin_Cardano.csv\n",
      "Coincodex  -  Index(['Open', 'High', 'Low', 'Close', 'Volume', 'Market Cap'], dtype='object')\n",
      "Coincodex [ Cardano ]  charged\n",
      "data/Coincodex/coin_Aave.csv\n",
      "Coincodex [ Aave ]  not charged\n",
      "data/Coincodex/coin_Bitcoin.csv\n"
     ]
    },
    {
     "name": "stdout",
     "output_type": "stream",
     "text": [
      "Coincodex  -  Index(['Open', 'High', 'Low', 'Close', 'Volume', 'Market Cap'], dtype='object')\n",
      "Coincodex [ Bitcoin ]  charged\n",
      "data/Coincodex/coin_Cosmos.csv\n",
      "Coincodex [ Cosmos ]  not charged\n",
      "data/Coincodex/coin_Dogecoin.csv\n",
      "Coincodex [ Dogecoin ]  not charged\n",
      "data/Coincodex/coin_Ethereum.csv\n"
     ]
    },
    {
     "name": "stdout",
     "output_type": "stream",
     "text": [
      "Coincodex  -  Index(['Open', 'High', 'Low', 'Close', 'Volume', 'Market Cap'], dtype='object')\n",
      "Coincodex [ Ethereum ]  charged\n",
      "data/Coincodex/coin_Litecoin.csv\n",
      "Coincodex [ Litecoin ]  not charged\n",
      "data/Coincodex/coin_Monero.csv\n",
      "Coincodex [ Monero ]  not charged\n",
      "data/Coincodex/coin_Polkadot.csv\n",
      "Coincodex [ Polkadot ]  not charged\n",
      "data/Coincodex/coin_USDCoin.csv\n",
      "Coincodex [ USDCoin ]  not charged\n",
      "data/Coincodex/coin_Microsoft.csv\n",
      "Coincodex [ Microsoft ]  not charged\n",
      "data/Coincodex/coin_AT&T.csv\n",
      "Coincodex [ AT&T ]  not charged\n",
      "data/Coincodex/coin_cac40.csv\n",
      "Coincodex [ cac40 ]  not charged\n",
      "----------------- True\n"
     ]
    }
   ],
   "source": [
    "loader = Loader()\n",
    "\n",
    "loader.loadSource(Loader.COINCODEX, forceEqualDate=True)\n",
    "\n",
    "df = loader.get(Loader.COINCODEX, Loader.ADA)\n",
    "\n",
    "serie = df.Close\n",
    "\n",
    "#print(df.dtypes)\n",
    "\n"
   ]
  },
  {
   "attachments": {
   },
   "cell_type": "markdown",
   "metadata": {
    "collapsed": false
   },
   "source": [
    "### Test Game simple"
   ]
  },
  {
   "cell_type": "code",
   "execution_count": 3,
   "metadata": {
    "collapsed": false
   },
   "outputs": [
    {
     "name": "stdout",
     "output_type": "stream",
     "text": [
      "Game after 1782/1782 steps - Cash: 4.3800696605355864e+16 & Security: 0.0 & Gains: 4.380069660535576e+16\n"
     ]
    }
   ],
   "source": [
    "# création Account et Strategy\n",
    "account = Account(100)\n",
    "strategy = StrategyOracle()\n",
    "\n",
    "# création du jeu\n",
    "game = Game(serie)\n",
    "game.setAccount(account)\n",
    "game.setStrategy(strategy)\n",
    "game.run()\n",
    "print(game)"
   ]
  },
  {
   "attachments": {
   },
   "cell_type": "markdown",
   "metadata": {
    "collapsed": false
   },
   "source": [
    "### Test Eval"
   ]
  },
  {
   "attachments": {
   },
   "cell_type": "markdown",
   "metadata": {
    "collapsed": false
   },
   "source": [
    "Evaluation d'une série et d'une stratégie en partant de $t_0$\n",
    "\n"
   ]
  },
  {
   "cell_type": "code",
   "execution_count": 30,
   "metadata": {
    "collapsed": false
   },
   "outputs": [
    {
     "data": {
      "text/plain": [
       "[4.380069660535576e+16]"
      ]
     },
     "execution_count": 30,
     "metadata": {
     },
     "output_type": "execute_result"
    }
   ],
   "source": [
    "# Donne l'efficacité des différentes méthodes\n",
    "evalGame = EvalGame(100)\n",
    "strategie = StrategyOracle()\n",
    "gain = evalGame.eval(serie, strategie, iteration=10, debug=False)\n",
    "\n",
    "gain\n",
    "\n"
   ]
  },
  {
   "attachments": {
   },
   "cell_type": "markdown",
   "metadata": {
    "collapsed": false
   },
   "source": [
    "Evaluation d'une série et d'une stratégie en partant de chaque $t_i$  \n",
    "\n"
   ]
  },
  {
   "cell_type": "code",
   "execution_count": 3,
   "metadata": {
    "collapsed": false
   },
   "outputs": [
    {
     "ename": "NameError",
     "evalue": "name 'serie' is not defined",
     "output_type": "error",
     "traceback": [
      "\u001b[0;31m---------------------------------------------------------------------------\u001b[0m",
      "\u001b[0;31mNameError\u001b[0m                                 Traceback (most recent call last)",
      "\u001b[0;32m<ipython-input-3-8ebfa1750d1a>\u001b[0m in \u001b[0;36m<module>\u001b[0;34m\u001b[0m\n\u001b[1;32m      1\u001b[0m \u001b[0mevalGame\u001b[0m \u001b[0;34m=\u001b[0m \u001b[0mEvalGame\u001b[0m\u001b[0;34m(\u001b[0m\u001b[0;36m100\u001b[0m\u001b[0;34m)\u001b[0m\u001b[0;34m\u001b[0m\u001b[0;34m\u001b[0m\u001b[0m\n\u001b[1;32m      2\u001b[0m \u001b[0;34m\u001b[0m\u001b[0m\n\u001b[0;32m----> 3\u001b[0;31m \u001b[0mgain\u001b[0m \u001b[0;34m=\u001b[0m \u001b[0mevalGame\u001b[0m\u001b[0;34m.\u001b[0m\u001b[0mevalTime\u001b[0m\u001b[0;34m(\u001b[0m\u001b[0mserie\u001b[0m\u001b[0;34m,\u001b[0m \u001b[0mStrategyOracle\u001b[0m\u001b[0;34m(\u001b[0m\u001b[0;34m)\u001b[0m\u001b[0;34m,\u001b[0m \u001b[0miteration\u001b[0m\u001b[0;34m=\u001b[0m\u001b[0;36m1000\u001b[0m\u001b[0;34m,\u001b[0m \u001b[0mdebug\u001b[0m\u001b[0;34m=\u001b[0m\u001b[0;32mFalse\u001b[0m\u001b[0;34m)\u001b[0m\u001b[0;34m\u001b[0m\u001b[0;34m\u001b[0m\u001b[0m\n\u001b[0m\u001b[1;32m      4\u001b[0m \u001b[0;34m\u001b[0m\u001b[0m\n\u001b[1;32m      5\u001b[0m \u001b[0;32mimport\u001b[0m \u001b[0mmatplotlib\u001b[0m\u001b[0;34m.\u001b[0m\u001b[0mpyplot\u001b[0m \u001b[0;32mas\u001b[0m \u001b[0mplt\u001b[0m\u001b[0;34m\u001b[0m\u001b[0;34m\u001b[0m\u001b[0m\n",
      "\u001b[0;31mNameError\u001b[0m: name 'serie' is not defined"
     ]
    }
   ],
   "source": [
    "\n",
    "evalGame = EvalGame(100)\n",
    "\n",
    "gain = evalGame.evalTime(serie, StrategyOracle(), iteration=1000, debug=False)\n",
    "\n",
    "import matplotlib.pyplot as plt\n",
    "plt.plot(gain)\n",
    "plt.show()\n",
    "\n"
   ]
  },
  {
   "attachments": {
   },
   "cell_type": "markdown",
   "metadata": {
    "collapsed": false
   },
   "source": [
    "Evaluation d'une stratégie sur plusieurs series :"
   ]
  },
  {
   "cell_type": "code",
   "execution_count": 6,
   "metadata": {
    "collapsed": false
   },
   "outputs": [
    {
     "data": {
      "text/plain": [
       "[Date\n",
       " 2017-10-01    4.380070e+16\n",
       " 2017-10-02    4.380070e+16\n",
       " 2017-10-03    2.865380e+16\n",
       " 2017-10-04    2.865380e+16\n",
       " 2017-10-05    2.865380e+16\n",
       "                   ...     \n",
       " 2022-08-13    1.341128e+00\n",
       " 2022-08-14    1.341128e+00\n",
       " 2022-08-15    0.000000e+00\n",
       " 2022-08-16    0.000000e+00\n",
       " 2022-08-17    0.000000e+00\n",
       " Length: 1782, dtype: float64,\n",
       " Date\n",
       " 2017-10-01    3.035197e+12\n",
       " 2017-10-02    3.035197e+12\n",
       " 2017-10-03    3.035197e+12\n",
       " 2017-10-04    3.035197e+12\n",
       " 2017-10-05    3.035197e+12\n",
       "                   ...     \n",
       " 2022-08-13    0.000000e+00\n",
       " 2022-08-14    0.000000e+00\n",
       " 2022-08-15    0.000000e+00\n",
       " 2022-08-16    0.000000e+00\n",
       " 2022-08-17    0.000000e+00\n",
       " Length: 1782, dtype: float64]"
      ]
     },
     "execution_count": 6,
     "metadata": {
     },
     "output_type": "execute_result"
    }
   ],
   "source": [
    "\n",
    "ada = loader.get(Loader.COINCODEX, Loader.ADA).Close\n",
    "eth = loader.get(Loader.COINCODEX, Loader.ETH).Close\n",
    "\n",
    "evalGame = EvalGame(100)\n",
    "strategyOracle = StrategyOracle()\n",
    "\n",
    "gain = evalGame.evalSeries([ada, eth], strategyOracle, iteration=10, debug=False)\n",
    "\n",
    "gain"
   ]
  },
  {
   "attachments": {
   },
   "cell_type": "markdown",
   "metadata": {
    "collapsed": false
   },
   "source": [
    "Evaluation de plusieurs stratégies sur une même série :"
   ]
  },
  {
   "cell_type": "code",
   "execution_count": 7,
   "metadata": {
    "collapsed": false
   },
   "outputs": [
    {
     "data": {
      "text/html": [
       "<div>\n",
       "<style scoped>\n",
       "    .dataframe tbody tr th:only-of-type {\n",
       "        vertical-align: middle;\n",
       "    }\n",
       "\n",
       "    .dataframe tbody tr th {\n",
       "        vertical-align: top;\n",
       "    }\n",
       "\n",
       "    .dataframe thead th {\n",
       "        text-align: right;\n",
       "    }\n",
       "</style>\n",
       "<table border=\"1\" class=\"dataframe\">\n",
       "  <thead>\n",
       "    <tr style=\"text-align: right;\">\n",
       "      <th></th>\n",
       "      <th>IStrategy</th>\n",
       "    </tr>\n",
       "    <tr>\n",
       "      <th>Date</th>\n",
       "      <th></th>\n",
       "    </tr>\n",
       "  </thead>\n",
       "  <tbody>\n",
       "    <tr>\n",
       "      <th>2017-10-01</th>\n",
       "      <td>-21.346967</td>\n",
       "    </tr>\n",
       "    <tr>\n",
       "      <th>2017-10-02</th>\n",
       "      <td>-1.805669</td>\n",
       "    </tr>\n",
       "    <tr>\n",
       "      <th>2017-10-03</th>\n",
       "      <td>-9.326587</td>\n",
       "    </tr>\n",
       "    <tr>\n",
       "      <th>2017-10-04</th>\n",
       "      <td>-14.960053</td>\n",
       "    </tr>\n",
       "    <tr>\n",
       "      <th>2017-10-05</th>\n",
       "      <td>-13.506365</td>\n",
       "    </tr>\n",
       "  </tbody>\n",
       "</table>\n",
       "</div>"
      ],
      "text/plain": [
       "            IStrategy\n",
       "Date                 \n",
       "2017-10-01 -21.346967\n",
       "2017-10-02  -1.805669\n",
       "2017-10-03  -9.326587\n",
       "2017-10-04 -14.960053\n",
       "2017-10-05 -13.506365"
      ]
     },
     "execution_count": 7,
     "metadata": {
     },
     "output_type": "execute_result"
    }
   ],
   "source": [
    "evalGame = EvalGame(100)\n",
    "strategyOracle = StrategyOracle()\n",
    "strategyRandom = StrategyRandom()\n",
    "\n",
    "gain = evalGame.evalStrategies(serie, [strategyOracle, strategyRandom], iteration=10, debug=False)\n",
    "\n",
    "gain.head()"
   ]
  },
  {
   "cell_type": "markdown",
   "metadata": {
    "collapsed": false
   },
   "source": [
   ]
  },
  {
   "cell_type": "code",
   "execution_count": 59,
   "metadata": {
    "collapsed": false
   },
   "outputs": [
    {
     "name": "stdout",
     "output_type": "stream",
     "text": [
      "data/Coincodex/coin_Cardano.csv\n"
     ]
    },
    {
     "name": "stdout",
     "output_type": "stream",
     "text": [
      "Coincodex  -  Index(['Open', 'High', 'Low', 'Close', 'Volume', 'Market Cap'], dtype='object')\n",
      "Coincodex [ Cardano ]  charged\n",
      "-----------------\n",
      "data/Coincodex/coin_Cardano.csv\n",
      "Coincodex  -  Index(['Open', 'High', 'Low', 'Close', 'Volume', 'Market Cap'], dtype='object')\n",
      "Coincodex [ Cardano ]  charged\n",
      "data/Coincodex/coin_Aave.csv\n",
      "Coincodex [ Aave ]  not charged\n",
      "data/Coincodex/coin_Bitcoin.csv\n"
     ]
    },
    {
     "name": "stdout",
     "output_type": "stream",
     "text": [
      "Coincodex  -  Index(['Open', 'High', 'Low', 'Close', 'Volume', 'Market Cap'], dtype='object')\n",
      "Coincodex [ Bitcoin ]  charged\n",
      "data/Coincodex/coin_Cosmos.csv\n",
      "Coincodex [ Cosmos ]  not charged\n",
      "data/Coincodex/coin_Dogecoin.csv\n",
      "Coincodex [ Dogecoin ]  not charged\n",
      "data/Coincodex/coin_Ethereum.csv\n"
     ]
    },
    {
     "name": "stdout",
     "output_type": "stream",
     "text": [
      "Coincodex  -  Index(['Open', 'High', 'Low', 'Close', 'Volume', 'Market Cap'], dtype='object')\n",
      "Coincodex [ Ethereum ]  charged\n",
      "data/Coincodex/coin_Litecoin.csv\n",
      "Coincodex [ Litecoin ]  not charged\n",
      "data/Coincodex/coin_Monero.csv\n",
      "Coincodex [ Monero ]  not charged\n",
      "data/Coincodex/coin_Polkadot.csv\n",
      "Coincodex [ Polkadot ]  not charged\n",
      "data/Coincodex/coin_USDCoin.csv\n",
      "Coincodex [ USDCoin ]  not charged\n",
      "data/Coincodex/coin_Microsoft.csv\n",
      "Coincodex [ Microsoft ]  not charged\n",
      "data/Coincodex/coin_AT&T.csv\n",
      "Coincodex [ AT&T ]  not charged\n",
      "data/Coincodex/coin_cac40.csv\n",
      "Coincodex [ cac40 ]  not charged\n",
      "----------------- 2024-01-01\n",
      "-----------------\n",
      "data/Coincodex/coin_Cardano.csv\n",
      "Coincodex  -  Index(['Open', 'High', 'Low', 'Close', 'Volume', 'Market Cap'], dtype='object')\n",
      "Coincodex [ Cardano ]  charged\n",
      "data/Coincodex/coin_Aave.csv\n",
      "Coincodex [ Aave ]  not charged\n",
      "data/Coincodex/coin_Bitcoin.csv\n"
     ]
    },
    {
     "name": "stdout",
     "output_type": "stream",
     "text": [
      "Coincodex  -  Index(['Open', 'High', 'Low', 'Close', 'Volume', 'Market Cap'], dtype='object')\n",
      "Coincodex [ Bitcoin ]  charged\n",
      "data/Coincodex/coin_Cosmos.csv\n",
      "Coincodex [ Cosmos ]  not charged\n",
      "data/Coincodex/coin_Dogecoin.csv\n",
      "Coincodex [ Dogecoin ]  not charged\n",
      "data/Coincodex/coin_Ethereum.csv\n"
     ]
    },
    {
     "name": "stdout",
     "output_type": "stream",
     "text": [
      "Coincodex  -  Index(['Open', 'High', 'Low', 'Close', 'Volume', 'Market Cap'], dtype='object')\n",
      "Coincodex [ Ethereum ]  charged\n",
      "data/Coincodex/coin_Litecoin.csv\n",
      "Coincodex [ Litecoin ]  not charged\n",
      "data/Coincodex/coin_Monero.csv\n",
      "Coincodex [ Monero ]  not charged\n",
      "data/Coincodex/coin_Polkadot.csv\n",
      "Coincodex [ Polkadot ]  not charged\n",
      "data/Coincodex/coin_USDCoin.csv\n",
      "Coincodex [ USDCoin ]  not charged\n",
      "data/Coincodex/coin_Microsoft.csv\n",
      "Coincodex [ Microsoft ]  not charged\n",
      "data/Coincodex/coin_AT&T.csv\n",
      "Coincodex [ AT&T ]  not charged\n",
      "data/Coincodex/coin_cac40.csv\n",
      "Coincodex [ cac40 ]  not charged\n",
      "----------------- True\n",
      "Ada from  2017-10-01  to  2022-08-17\n",
      "Btc from  2017-10-01  to  2022-08-17\n",
      "-----------------\n",
      "data/Binance/Cardano.csv\n",
      "Binance [ Cardano ]  not charged\n",
      "data/Binance/Aave.csv\n",
      "Binance [ Aave ]  not charged\n",
      "data/Binance/Bitcoin.csv\n",
      "Binance [ Bitcoin ]  not charged\n",
      "data/Binance/Cosmos.csv\n",
      "Binance [ Cosmos ]  not charged\n",
      "data/Binance/Dogecoin.csv\n",
      "Binance [ Dogecoin ]  not charged\n",
      "data/Binance/Ethereum.csv\n",
      "Binance [ Ethereum ]  not charged\n",
      "data/Binance/Litecoin.csv\n",
      "Binance [ Litecoin ]  not charged\n",
      "data/Binance/Monero.csv\n",
      "Binance [ Monero ]  not charged\n",
      "data/Binance/Polkadot.csv\n",
      "Binance [ Polkadot ]  not charged\n",
      "data/Binance/USDCoin.csv\n",
      "Binance [ USDCoin ]  not charged\n",
      "data/Binance/Microsoft.csv\n",
      "Binance [ Microsoft ]  not charged\n",
      "data/Binance/AT&T.csv\n",
      "Binance [ AT&T ]  not charged\n",
      "data/Binance/cac40.csv\n",
      "Binance [ cac40 ]  not charged\n",
      "----------------- False\n",
      "-----------------\n",
      "data/Coincodex/coin_Cardano.csv\n",
      "Coincodex  -  Index(['Open', 'High', 'Low', 'Close', 'Volume', 'Market Cap'], dtype='object')\n",
      "Coincodex [ Cardano ]  charged\n",
      "data/Coincodex/coin_Aave.csv\n",
      "Coincodex [ Aave ]  not charged\n",
      "data/Coincodex/coin_Bitcoin.csv\n"
     ]
    },
    {
     "name": "stdout",
     "output_type": "stream",
     "text": [
      "Coincodex  -  Index(['Open', 'High', 'Low', 'Close', 'Volume', 'Market Cap'], dtype='object')\n",
      "Coincodex [ Bitcoin ]  charged\n",
      "data/Coincodex/coin_Cosmos.csv\n",
      "Coincodex [ Cosmos ]  not charged\n",
      "data/Coincodex/coin_Dogecoin.csv\n",
      "Coincodex [ Dogecoin ]  not charged\n",
      "data/Coincodex/coin_Ethereum.csv\n"
     ]
    },
    {
     "name": "stdout",
     "output_type": "stream",
     "text": [
      "Coincodex  -  Index(['Open', 'High', 'Low', 'Close', 'Volume', 'Market Cap'], dtype='object')\n",
      "Coincodex [ Ethereum ]  charged\n",
      "data/Coincodex/coin_Litecoin.csv\n",
      "Coincodex [ Litecoin ]  not charged\n",
      "data/Coincodex/coin_Monero.csv\n",
      "Coincodex [ Monero ]  not charged\n",
      "data/Coincodex/coin_Polkadot.csv\n",
      "Coincodex [ Polkadot ]  not charged\n",
      "data/Coincodex/coin_USDCoin.csv\n",
      "Coincodex [ USDCoin ]  not charged\n",
      "data/Coincodex/coin_Microsoft.csv\n",
      "Coincodex [ Microsoft ]  not charged\n",
      "data/Coincodex/coin_AT&T.csv\n",
      "Coincodex [ AT&T ]  not charged\n",
      "data/Coincodex/coin_cac40.csv\n",
      "Coincodex [ cac40 ]  not charged\n",
      "----------------- False\n",
      "-----------------\n",
      "data/finance.yahoo.com/Cardano.csv\n",
      "finance.yahoo.com [ Cardano ]  not charged\n",
      "data/finance.yahoo.com/Aave.csv\n",
      "finance.yahoo.com [ Aave ]  not charged\n",
      "data/finance.yahoo.com/Bitcoin.csv\n",
      "finance.yahoo.com [ Bitcoin ]  not charged\n",
      "data/finance.yahoo.com/Cosmos.csv\n",
      "finance.yahoo.com [ Cosmos ]  not charged\n",
      "data/finance.yahoo.com/Dogecoin.csv\n",
      "finance.yahoo.com [ Dogecoin ]  not charged\n",
      "data/finance.yahoo.com/Ethereum.csv\n",
      "finance.yahoo.com [ Ethereum ]  not charged\n",
      "data/finance.yahoo.com/Litecoin.csv\n",
      "finance.yahoo.com [ Litecoin ]  not charged\n",
      "data/finance.yahoo.com/Monero.csv\n",
      "finance.yahoo.com [ Monero ]  not charged\n",
      "data/finance.yahoo.com/Polkadot.csv\n",
      "finance.yahoo.com [ Polkadot ]  not charged\n",
      "data/finance.yahoo.com/USDCoin.csv\n",
      "finance.yahoo.com [ USDCoin ]  not charged\n",
      "data/finance.yahoo.com/Microsoft.csv\n",
      "finance.yahoo.com [ Microsoft ]  not charged\n",
      "data/finance.yahoo.com/AT&T.csv\n",
      "finance.yahoo.com  -  Index(['Open', 'High', 'Low', 'Close', 'Adj Close', 'Volume'], dtype='object')\n",
      "finance.yahoo.com [ AT&T ]  charged\n",
      "data/finance.yahoo.com/cac40.csv\n",
      "finance.yahoo.com  -  Index(['Open', 'High', 'Low', 'Close', 'Adj Close', 'Volume'], dtype='object')\n",
      "finance.yahoo.com [ cac40 ]  charged\n",
      "----------------- False\n",
      "-----------------\n",
      "data/Kaggle/coin_Cardano.csv\n",
      "Kaggle  -  Index(['SNo', 'Name', 'Symbol', 'High', 'Low', 'Open', 'Close', 'Volume',\n",
      "       'Marketcap'],\n",
      "      dtype='object')\n",
      "Kaggle [ Cardano ]  charged\n",
      "data/Kaggle/coin_Aave.csv\n",
      "Kaggle  -  Index(['SNo', 'Name', 'Symbol', 'High', 'Low', 'Open', 'Close', 'Volume',\n",
      "       'Marketcap'],\n",
      "      dtype='object')\n",
      "Kaggle [ Aave ]  charged\n",
      "data/Kaggle/coin_Bitcoin.csv\n",
      "Kaggle  -  Index(['SNo', 'Name', 'Symbol', 'High', 'Low', 'Open', 'Close', 'Volume',\n",
      "       'Marketcap'],\n",
      "      dtype='object')\n",
      "Kaggle [ Bitcoin ]  charged\n",
      "data/Kaggle/coin_Cosmos.csv\n",
      "Kaggle  -  Index(['SNo', 'Name', 'Symbol', 'High', 'Low', 'Open', 'Close', 'Volume',\n",
      "       'Marketcap'],\n",
      "      dtype='object')\n",
      "Kaggle [ Cosmos ]  charged\n",
      "data/Kaggle/coin_Dogecoin.csv\n",
      "Kaggle  -  Index(['SNo', 'Name', 'Symbol', 'High', 'Low', 'Open', 'Close', 'Volume',\n",
      "       'Marketcap'],\n",
      "      dtype='object')\n",
      "Kaggle [ Dogecoin ]  charged\n",
      "data/Kaggle/coin_Ethereum.csv\n",
      "Kaggle  -  Index(['SNo', 'Name', 'Symbol', 'High', 'Low', 'Open', 'Close', 'Volume',\n",
      "       'Marketcap'],\n",
      "      dtype='object')\n",
      "Kaggle [ Ethereum ]  charged\n",
      "data/Kaggle/coin_Litecoin.csv\n",
      "Kaggle  -  Index(['SNo', 'Name', 'Symbol', 'High', 'Low', 'Open', 'Close', 'Volume',\n",
      "       'Marketcap'],\n",
      "      dtype='object')\n",
      "Kaggle [ Litecoin ]  charged\n",
      "data/Kaggle/coin_Monero.csv\n",
      "Kaggle  -  Index(['SNo', 'Name', 'Symbol', 'High', 'Low', 'Open', 'Close', 'Volume',\n",
      "       'Marketcap'],\n",
      "      dtype='object')\n",
      "Kaggle [ Monero ]  charged\n",
      "data/Kaggle/coin_Polkadot.csv\n",
      "Kaggle  -  Index(['SNo', 'Name', 'Symbol', 'High', 'Low', 'Open', 'Close', 'Volume',\n",
      "       'Marketcap'],\n",
      "      dtype='object')\n",
      "Kaggle [ Polkadot ]  charged\n",
      "data/Kaggle/coin_USDCoin.csv\n",
      "Kaggle  -  Index(['SNo', 'Name', 'Symbol', 'High', 'Low', 'Open', 'Close', 'Volume',\n",
      "       'Marketcap'],\n",
      "      dtype='object')\n",
      "Kaggle [ USDCoin ]  charged\n",
      "data/Kaggle/coin_Microsoft.csv\n",
      "Kaggle [ Microsoft ]  not charged\n",
      "data/Kaggle/coin_AT&T.csv\n",
      "Kaggle [ AT&T ]  not charged\n",
      "data/Kaggle/coin_cac40.csv\n",
      "Kaggle [ cac40 ]  not charged\n",
      "----------------- False\n",
      "-----------------\n",
      "data/Nasdaq/Cardano.csv\n",
      "Nasdaq [ Cardano ]  not charged\n",
      "data/Nasdaq/Aave.csv\n",
      "Nasdaq [ Aave ]  not charged\n",
      "data/Nasdaq/Bitcoin.csv\n",
      "Nasdaq [ Bitcoin ]  not charged\n",
      "data/Nasdaq/Cosmos.csv\n",
      "Nasdaq [ Cosmos ]  not charged\n",
      "data/Nasdaq/Dogecoin.csv\n",
      "Nasdaq [ Dogecoin ]  not charged\n",
      "data/Nasdaq/Ethereum.csv\n",
      "Nasdaq [ Ethereum ]  not charged\n",
      "data/Nasdaq/Litecoin.csv\n",
      "Nasdaq [ Litecoin ]  not charged\n",
      "data/Nasdaq/Monero.csv\n",
      "Nasdaq [ Monero ]  not charged\n",
      "data/Nasdaq/Polkadot.csv\n",
      "Nasdaq [ Polkadot ]  not charged\n",
      "data/Nasdaq/USDCoin.csv\n",
      "Nasdaq [ USDCoin ]  not charged\n",
      "data/Nasdaq/Microsoft.csv\n",
      "Nasdaq  -  Index(['Close/Last', 'Volume', 'Open', 'High', 'Low'], dtype='object')\n",
      "Nasdaq [ Microsoft ]  charged\n",
      "data/Nasdaq/AT&T.csv\n",
      "Nasdaq [ AT&T ]  not charged\n",
      "data/Nasdaq/cac40.csv\n",
      "Nasdaq [ cac40 ]  not charged\n",
      "----------------- False\n"
     ]
    },
    {
     "name": "stdout",
     "output_type": "stream",
     "text": [
      "-----------------\n",
      "data/Coincodex/coin_Cardano.csv\n",
      "Coincodex  -  Index(['Open', 'High', 'Low', 'Close', 'Volume', 'Market Cap'], dtype='object')\n",
      "Coincodex [ Cardano ]  charged\n",
      "data/Coincodex/coin_Aave.csv\n",
      "Coincodex [ Aave ]  not charged\n",
      "data/Coincodex/coin_Bitcoin.csv\n"
     ]
    },
    {
     "name": "stdout",
     "output_type": "stream",
     "text": [
      "Coincodex  -  Index(['Open', 'High', 'Low', 'Close', 'Volume', 'Market Cap'], dtype='object')\n",
      "Coincodex [ Bitcoin ]  charged\n",
      "data/Coincodex/coin_Cosmos.csv\n",
      "Coincodex [ Cosmos ]  not charged\n",
      "data/Coincodex/coin_Dogecoin.csv\n",
      "Coincodex [ Dogecoin ]  not charged\n",
      "data/Coincodex/coin_Ethereum.csv\n"
     ]
    },
    {
     "name": "stdout",
     "output_type": "stream",
     "text": [
      "Coincodex  -  Index(['Open', 'High', 'Low', 'Close', 'Volume', 'Market Cap'], dtype='object')\n",
      "Coincodex [ Ethereum ]  charged\n",
      "data/Coincodex/coin_Litecoin.csv\n",
      "Coincodex [ Litecoin ]  not charged\n",
      "data/Coincodex/coin_Monero.csv\n",
      "Coincodex [ Monero ]  not charged\n",
      "data/Coincodex/coin_Polkadot.csv\n",
      "Coincodex [ Polkadot ]  not charged\n",
      "data/Coincodex/coin_USDCoin.csv\n",
      "Coincodex [ USDCoin ]  not charged\n",
      "data/Coincodex/coin_Microsoft.csv\n",
      "Coincodex [ Microsoft ]  not charged\n",
      "data/Coincodex/coin_AT&T.csv\n",
      "Coincodex [ AT&T ]  not charged\n",
      "data/Coincodex/coin_cac40.csv\n",
      "Coincodex [ cac40 ]  not charged\n",
      "----------------- True\n"
     ]
    },
    {
     "data": {
      "image/png": "[encoded data removed]",
      "text/plain": [
       "<Figure size 864x504 with 1 Axes>"
      ]
     },
     "execution_count": 59,
     "metadata": {
      "image/png": {
       "height": 411,
       "width": 716
      },
      "needs_background": "light"
     },
     "output_type": "execute_result"
    }
   ],
   "source": [
    "import pandas as pd\n",
    "import datetime\n",
    "%run -i \"Strategies.ipynb\"\n",
    "%run -i \"Loader.ipynb\"\n",
    "%run -i \"BaseClasses.ipynb\"\n",
    "\n",
    "\n",
    "loader = Loader()\n",
    "loader.loadSource(Loader.COINCODEX, forceEqualDate=True)\n",
    "df = loader.get(Loader.COINCODEX, Loader.ADA)\n",
    "serie = df.Close\n",
    "\n",
    "\n",
    "strategie = StrategyTenkanSen()\n",
    "strategie2 = StrategyKijunSen()\n",
    "strategie3 = StrategyLongTerm()\n",
    "strategie4 = StrategyJanvier()\n",
    "evalGame = EvalGame(100)\n",
    "\n",
    "\n",
    "#gain = evalGame.eval(serie, strategie3, iteration=10, debug=False)\n",
    "\n",
    "\n",
    "\n",
    "evalGame = EvalGame(100)\n",
    "\n",
    "gain = evalGame.evalTime(serie, strategie4, iteration=10, debug=False)\n",
    "\n",
    "\n",
    "\n",
    "import matplotlib.pyplot as plt\n",
    "plt.plot(gain)\n",
    "plt.show()\n",
    "\n",
    "\n",
    "\n"
   ]
  },
  {
   "cell_type": "code",
   "execution_count": 9,
   "metadata": {
    "collapsed": false
   },
   "outputs": [
    {
     "data": {
      "text/plain": [
       "['__class__',\n",
       " '__delattr__',\n",
       " '__dict__',\n",
       " '__dir__',\n",
       " '__doc__',\n",
       " '__eq__',\n",
       " '__format__',\n",
       " '__ge__',\n",
       " '__getattribute__',\n",
       " '__gt__',\n",
       " '__hash__',\n",
       " '__init__',\n",
       " '__init_subclass__',\n",
       " '__le__',\n",
       " '__lt__',\n",
       " '__module__',\n",
       " '__ne__',\n",
       " '__new__',\n",
       " '__reduce__',\n",
       " '__reduce_ex__',\n",
       " '__repr__',\n",
       " '__setattr__',\n",
       " '__sizeof__',\n",
       " '__str__',\n",
       " '__subclasshook__',\n",
       " '__weakref__',\n",
       " 'getAction',\n",
       " 'getName',\n",
       " 'isRandom']"
      ]
     },
     "execution_count": 9,
     "metadata": {
     },
     "output_type": "execute_result"
    }
   ],
   "source": [
    "dir(StrategyLongTerm)"
   ]
  },
  {
   "cell_type": "code",
   "execution_count": 0,
   "metadata": {
    "collapsed": false
   },
   "outputs": [
   ],
   "source": [
   ]
  },
  {
   "cell_type": "code",
   "execution_count": 0,
   "metadata": {
    "collapsed": false
   },
   "outputs": [
   ],
   "source": [
   ]
  },
  {
   "cell_type": "code",
   "execution_count": 0,
   "metadata": {
    "collapsed": false
   },
   "outputs": [
   ],
   "source": [
   ]
  },
  {
   "cell_type": "code",
   "execution_count": 0,
   "metadata": {
    "collapsed": false
   },
   "outputs": [
   ],
   "source": [
   ]
  },
  {
   "cell_type": "code",
   "execution_count": 0,
   "metadata": {
    "collapsed": false
   },
   "outputs": [
   ],
   "source": [
   ]
  },
  {
   "cell_type": "code",
   "execution_count": 0,
   "metadata": {
    "collapsed": false
   },
   "outputs": [
   ],
   "source": [
   ]
  },
  {
   "cell_type": "code",
   "execution_count": 0,
   "metadata": {
    "collapsed": false
   },
   "outputs": [
   ],
   "source": [
   ]
  }
 ],
 "metadata": {
  "kernelspec": {
   "display_name": "Python 3 (Ubuntu Linux)",
   "language": "python",
   "name": "python3-ubuntu",
   "resource_dir": "/usr/local/share/jupyter/kernels/python3-ubuntu"
  },
  "language_info": {
   "codemirror_mode": {
    "name": "ipython",
    "version": 3
   },
   "file_extension": ".py",
   "mimetype": "text/x-python",
   "name": "python",
   "nbconvert_exporter": "python",
   "pygments_lexer": "ipython3",
   "version": "3.8.10"
  },
  "vscode": {
   "interpreter": {
    "hash": "26e703a13f136efadcc926dae761341b869ee060cc21fc1f60ec92f6b591cbb4"
   }
  }
 },
 "nbformat": 4,
 "nbformat_minor": 4
}