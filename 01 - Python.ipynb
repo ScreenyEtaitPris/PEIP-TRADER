{
 "cells": [
  {
   "cell_type": "markdown",
   "metadata": {
    "collapsed": false
   },
   "source": [
    "# Objectif\n",
    "\n",
    "Dans ce notebook, nous allons introduire Jupyter et le langage Python.\n",
    "\n",
    "## Partie 1 - Jupyter\n",
    "\n",
    "Commençons par un résumé wikipedia :\n",
    "\n",
    "`Jupyter est une application web utilisée pour programmer dans plus de 40 langages de programmation, dont Julia, Python, R, Ruby ou encore Scala1. Jupyter est une évolution du projet IPython. Jupyter permet de réaliser des notebooks, c'est-à-dire des programmes contenant à la fois du texte en markdown et du code en Julia, Python, R... Ces notebooks sont utilisés en science des données pour explorer et analyser des données.`\n",
    "\n",
    "Un notebook jupyter est donc une page web, composée de cellules, dont certaines sont du code exécutable et d'autres du texte.\n",
    "\n",
    "### Les cellules\n",
    "\n",
    "Le texte que vous êtes en train de lire est inséré dans une cellule de type texte, appelée une cellule $Markdown$.\n",
    "\n",
    "Le texte dans la cellule ci-dessous est par contre dans une cellule $Code$, contenant donc du code. Pour exécuter cette cellule, sélectionnez la et tapez le raccourci $Maj+Entrée$."
   ]
  },
  {
   "cell_type": "code",
   "execution_count": null,
   "metadata": {
    "collapsed": false
   },
   "outputs": [],
   "source": [
    "print(\"hello world\")"
   ]
  },
  {
   "cell_type": "markdown",
   "metadata": {
    "collapsed": false
   },
   "source": [
    "Une cellule de texte peut aussi être exécutée, afin d'afficher la mise en forme. Par exemple, double cliquez sur la première cellule de ce notebook. Vous devriez voir apparaitre le vrai texte brute de la cellule.\n",
    "\n",
    "Pour faire ré-apparaitre le texte mis en forme, exécutez la cellule : sélectionnez la et tapez le raccourci $Maj+Entrée$.\n",
    "\n",
    "### Modification\n",
    "\n",
    "Il est possible d'ajouter autant de cellules que vous le souhaitez dans vos notebook. Le plus simple pour réaliser cette action est d'utiliser les menus: $Insert > Cell \\ Above$ pour ajouter une nouvelle cellule au dessus de la cellule courante.\n",
    "\n",
    "Une fois la cellule ajoutée, vous devez choisir le type de la nouvelle cellule (par défaut, c'est une cellule $Code$). Pour changer le type d'une cellule, le menu peut encore être utilisé : $Cell > Cell \\ Type > Mardown$ pour obtenir une cellule de texte.\n",
    "\n",
    "Pour supprimer, couper, copier ou coller des cellules, voir le menu $Edit$.\n",
    "\n",
    "#### Exercice\n",
    "\n",
    "1. ajoutez deux cellules de code en dessous de cette cellule\n",
    "2. changez le code de la première pour avoir une cellule de texte\n",
    "3. ajoutez du code Python affichant \"Bonjour Monde\" dans la deuxième\n",
    "3. exécutez les cellules\n",
    "4. supprimez les cellules\n"
   ]
  },
  {
   "cell_type": "markdown",
   "metadata": {
    "collapsed": false
   },
   "source": [
    "### Raccourci\n",
    "\n",
    "Pour aller plus vite, il est important d'apprendre quelques raccourcis, à utiliser quand une cellule est sélectionnée (contour bleu) :\n",
    "- pour ajouter une cellule $Code$ en dessous de celle sélectionnée, tapez $B$\n",
    "- pour ajouter une cellule $Code$ au dessus de celle sélectionnée, tapez $A$\n",
    "- pour changer le type d'une cellule en $Markdown$, tapez $M$\n",
    "\n",
    "Tous les raccourcis sont disponibles dans le menu $Help > Keyboard\\ Shortcuts$.\n",
    "\n",
    "### Mise en forme d'une cellule de texte\n",
    "\n",
    "Une cellule $Markdown$ peut être mise en forme via des marqueurs de texte :\n",
    "- ```** gras **``` **gras**\n",
    "- ```_italique_``` _italique_\n",
    "- des formules mathématiques ```$E = mc^2$``` $E=mc^2$\n",
    "\n",
    "Des listes numérotées:\n",
    "1. en premièrement\n",
    "2. en deuxièmement \n",
    "\n",
    "Double cliquez sur cette cellule pour faire apparaitre le marqueur utilisé pour réaliser des listes numérotées.\n",
    "\n",
    "Pour organiser votre document, des sections sont possibles :\n",
    "```\n",
    "# Des titres\n",
    "## Des sous titres\n",
    "### Des sous sous titres\n",
    "#### Des sous sous sous titres\n",
    "##### Des sous sous sous sous titres\n",
    "###### Des sous sous sous sous sous titres\n",
    "```\n",
    "Et il est aussi possible d'ajouter des liens, des images, etc. Nous vous laisserons rechercher sur le web les autres possibilités.\n",
    "\n",
    "#### Exercice\n",
    "\n",
    "1. ajoutez une cellule de texte ci-dessous en utilisant les menus\n",
    "2. testez les différents marqueurs explicités ci-dessus\n",
    "3. exécutez la cellule pour faire apparaitre la mise en page\n",
    "4. ajoutez une autre cellule de texte ci-dessous, cette fois en utilisant les raccourcis clavier\n",
    "5. ajoutez quelques marqueurs\n",
    "5. exécutez cette cellule avec le raccourci clavier"
   ]
  },
  {
   "cell_type": "markdown",
   "metadata": {
    "collapsed": false
   },
   "source": [
    "## Partie 2 - Python\n",
    "\n",
    "Dans cette partie, nous allons faire une introduction au langage Python. Commençons par une définition Wikipedia :\n",
    "\n",
    "`Python est un langage de programmation objet interprété, multi-paradigme et multiplateformes. Il favorise la programmation impérative structurée, fonctionnelle et orientée objet. Il est doté d'un typage dynamique fort, d'une gestion automatique de la mémoire par ramasse-miettes et d'un système de gestion d'exceptions ; il est ainsi similaire à Perl, Ruby, Scheme, Smalltalk et Tcl.`\n",
    "\n",
    "`Le langage Python est placé sous une licence libre proche de la licence BSD4 et fonctionne sur la plupart des plates-formes informatiques, des supercalculateurs aux ordinateurs centraux, de Windows à Unix avec notamment GNU/Linux en passant par macOS, ou encore Android, iOS, et aussi avec Java ou encore .NET. Il est conçu pour optimiser la productivité des programmeurs en offrant des outils de haut niveau et une syntaxe simple à utiliser.`\n",
    "\n",
    "Pour résumer, Python est un langage pouvant s'exécuter sur différents types de machines et est très simple à prendre en main.\n",
    "\n",
    "### Un petit exemple\n",
    "\n",
    "Voici un exemple :"
   ]
  },
  {
   "cell_type": "code",
   "execution_count": null,
   "metadata": {
    "collapsed": false
   },
   "outputs": [],
   "source": [
    "# Ceci est un commentaire et n'est pas exécuté par Python.\n",
    "# toute ligne commençant par '#' n'est pas exécutée par Python\n",
    "\n",
    "print(\"Calcul de 452 + 128 :\")\n",
    "\n",
    "x = 452\n",
    "y = 128\n",
    "\n",
    "z = x + y\n",
    "\n",
    "print(\"Somme: \", z)\n"
   ]
  },
  {
   "cell_type": "markdown",
   "metadata": {
    "collapsed": false
   },
   "source": [
    "Dans ce programme, nous avons créé deux variables x et y contenant chacune un entier. La variable ``z`` créée ensuite contient la somme de `x` et `y`. Enfin la résultat est affiché avec la fonction `print()`. La concaténation de deux chaînes de caractères se fait avec l'opérateur `+`. Et la transformation d'un entier en chaîne de caractères se fait avec la fonction `str()` (pour `String`).\n",
    "\n",
    "Mais comment Python a fait pour déterminer que `x` et `y` était des entiers ?\n",
    "\n",
    "Voici le même programme avec une légère différence sur `x` et `y` :"
   ]
  },
  {
   "cell_type": "code",
   "execution_count": null,
   "metadata": {
    "collapsed": false
   },
   "outputs": [],
   "source": [
    "'''\n",
    "Ceci est un autre moyen d'ajouter des commentaires, mais cette fois\n",
    "ci, il est possible d'écrire sur plusieurs lignes.\n",
    "'''\n",
    "\n",
    "print(\"Calcul de 452 + 128 :\")\n",
    "\n",
    "x = 451.5\n",
    "y = 128.5\n",
    "\n",
    "z = x + y\n",
    "\n",
    "print(\"Somme: \", z)"
   ]
  },
  {
   "cell_type": "markdown",
   "metadata": {
    "collapsed": false
   },
   "source": [
    "La somme est maintenant de `580.0` et non de `580`. Python a déterminé dynamiquement le type de `x` et `y`. Puisque `x` contient un nombre à virgule, alors `x` est un `float` (`float` est le type pour stocker des nombres non entier).\n",
    "\n",
    "### Quelques types de bases\n",
    "\n",
    "Le programmeur ne doit pas définir les types de ces variables mais Python les devine à l'exécution du programme. Voici quelques types utiles:\n",
    "- `int` : pour les entiers\n",
    "- `float` : pour les nombres à virgule\n",
    "- `str` : pour les chaînes de cartactères. En pratique, on crée des chaînes de caractères avec `\"\"`\n",
    "- `boolean` : True ou False\n",
    "\n",
    "#### Exercice\n",
    "\n",
    "1. dans la cellule ci-dessous, créez des variables de différents types\n",
    "2. utilisez la fonction ``type()`` prenant une variable en paramètre pour afficher son type"
   ]
  },
  {
   "cell_type": "code",
   "execution_count": null,
   "metadata": {
    "collapsed": false
   },
   "outputs": [],
   "source": []
  },
  {
   "cell_type": "markdown",
   "metadata": {
    "collapsed": false
   },
   "source": [
    "### Les instructions de contrôles\n",
    "\n",
    "Un programme Python est composé d'instructions de contrôle afin de faciliter l'écriture d'algorithme :\n",
    "- les boucles : `for`, `while`\n",
    "- les SiAlorsSinon : `if`, `else`, `elif`\n",
    "\n",
    "Une instruction de contrôle est généralement suivi d'un bloc. Un bloc est en pratique une indentation de plusieurs lignes de codes pour indiquer qu'elle font partie de l'instruction de contrôle. L'indentation se fait avec la touche tabulation.\n",
    "\n",
    "Par exemple, une boucle `while` sera suivi d'un bloc contenant les lignes de codes à répéter plusieurs fois.\n",
    "\n",
    "Quelques exemples :"
   ]
  },
  {
   "cell_type": "code",
   "execution_count": null,
   "metadata": {
    "collapsed": false,
    "scrolled": true
   },
   "outputs": [],
   "source": [
    "temperature = 24\n",
    "\n",
    "print(\"\\nIfThenElse:\\n\")    \n",
    "\n",
    "if (temperature > 20):\n",
    "    print('je mets un short') # notez ici l'indentation pour indiquer que ce code fait partie du 'if'\n",
    "else:\n",
    "    print('je mets un pull') # notez ici l'indentation pour indiquer que ce code fait partie du 'else'\n",
    "\n",
    "print(\"\\nBoucle for:\\n\")    \n",
    "\n",
    "for i in range(0,5): # range(0, 5) renvoie une liste [0, 1, 2, 3, 4] # après cette ligne, on indente le code contenu dans le 'for'\n",
    "    print(\"iteration numero:\", i)\n",
    "    print(\"Hello World\")\n",
    "\n",
    "print(\"\\nBoucle while:\\n\") # ici, il n'y a plus d'indentation, donc on est plus dans le 'for'\n",
    "    \n",
    "i=0\n",
    "while( i < 5): # après cette ligne, on indente le code contenu dans le 'while'\n",
    "    print(\"iteration numero:\", i)\n",
    "    i = i + 1"
   ]
  },
  {
   "cell_type": "markdown",
   "metadata": {
    "collapsed": false
   },
   "source": [
    "#### Exercice\n",
    "1. le principe de bloc par indentation vous parait lisible ? est ce qu'une solution basée sur des parenthèses aurait été plus clair ? \n",
    "2. cherchez le raccourci pour faire apparaitre les numéros de ligne dans les cellule de code\n",
    "3. faites apparaitre les numéros de ligne dans la cellule ci-dessus \n",
    "\n",
    "Pour la question 1, notez que Python force à implémenter du code de manière clair. D'autres langages utilisent tout simplement des parenthèses/accolades pour délimiter les blocs, permettant d'écrire ceci :\n",
    "> `if(tmp > 20){ print(\"short\")}else{print(\"Pantalon\")}`.\n",
    "\n",
    "4. ce dernier code vous parait plus simple à lire ? \n",
    "\n",
    "Python vous force donc à indenter le code pour qu'il soit facilement lisible. Si le code est lisible, on peut plus facilement le corriger.\n",
    "\n",
    "#### Exercice\n",
    "\n",
    "1. écrivez un programme définissant une variable entière et affichant \"nombre pair\" si la variable est pair, et \"nombre impair\" sinon\n",
    "2. écrivez un programme affichant :<br>\n",
    "&&&<br>\n",
    "&&&<br>\n",
    "&&&<br>\n",
    "\n",
    "3. écrivez un programme affichant :<br>\n",
    "&<br>\n",
    "&&<br>\n",
    "&&&<br>\n",
    "&&&&<br>"
   ]
  },
  {
   "cell_type": "code",
   "execution_count": null,
   "metadata": {
    "collapsed": false
   },
   "outputs": [],
   "source": [
    "# question 1"
   ]
  },
  {
   "cell_type": "code",
   "execution_count": null,
   "metadata": {
    "collapsed": false
   },
   "outputs": [],
   "source": [
    "# question 2"
   ]
  },
  {
   "cell_type": "code",
   "execution_count": null,
   "metadata": {
    "collapsed": false
   },
   "outputs": [],
   "source": [
    "# question 3"
   ]
  },
  {
   "cell_type": "markdown",
   "metadata": {
    "collapsed": false
   },
   "source": [
    "### Les fonctions\n",
    "\n",
    "Quand du code doit être ré-écrit plusieurs fois, il est plus simple de créer une fonction contenant ce code. Ainsi, pour exécuter ce code, il suffit d'appeler la fonction.\n",
    "\n",
    "Une fonction est créée avec :\n",
    "1. le mot clé `def` \n",
    "2. un nom de fonction\n",
    "3. des parenthèses, avec si nécessaire, des paramètres\n",
    "4. ':' pour introduire le bloc contenant le code de la fonction\n",
    "\n",
    "Par exemple:\n",
    "- `def carre(x):` est la fonction `carre` prenant un paramètre nommé `x`. Cette variable `x` sera utilisée dans le corps de la fonction.\n",
    "- `def machinChose(x, y, z):` est la fonction `machinChose` prenant trois paramètres nommés `x`, `y` et `z`. Ces variables seront utilisées dans le corps de la fonction.\n",
    "\n",
    "Dans le corps d'une fonction, on pourra utiliser l'instruction `return ` pour retourner une valeur au programme appelant cette fonction. Par exemple :\n"
   ]
  },
  {
   "cell_type": "code",
   "execution_count": null,
   "metadata": {},
   "outputs": [],
   "source": [
    "def carre(x):\n",
    "    x = x * x\n",
    "    return x"
   ]
  },
  {
   "cell_type": "markdown",
   "metadata": {},
   "source": [
    "Pour utiliser la fonction, voici un exemple :"
   ]
  },
  {
   "cell_type": "code",
   "execution_count": null,
   "metadata": {},
   "outputs": [],
   "source": [
    "x = 4 # ce x n'est visible que dans le notebook\n",
    "\n",
    "carreDeX = carre(x) # le x utilisé dans la fonction 'carre' n'est visible que dans la fonction 'carre'\n",
    "\n",
    "print(\"x = \", x)\n",
    "print(\"carreDeX = \", carreDeX)"
   ]
  },
  {
   "cell_type": "markdown",
   "metadata": {},
   "source": [
    "Vous pouvez noter que le `x` initial n'a pas été modifié. Une variable déclarée dans un bloc n'est visible que dans ce bloc. \n",
    "\n",
    "Notez aussi que l'instruction `return` n'est pas obligatoire. Mais sachez que si elle est absente, un `return` par défaut sera ajouté, retournant `None` (`None` représentant la valeur 'rien' en Python).\n",
    "\n",
    "Etudier le bloc suivant, présentant un exemple d'implémentation de fonction :"
   ]
  },
  {
   "cell_type": "code",
   "execution_count": null,
   "metadata": {
    "collapsed": false
   },
   "outputs": [],
   "source": [
    "# résolution d'un équation du second degré\n",
    "# ax2 + bx + c = 0\n",
    "\n",
    "import math\n",
    "\n",
    "def calculDeterminant(a, b, c):\n",
    "    \n",
    "    det = b*b - 4 * a * c\n",
    "    \n",
    "    return det\n",
    "\n",
    "a = 5\n",
    "b = 7\n",
    "c = 4\n",
    "\n",
    "det = calculDeterminant(a, b, c)\n",
    "\n",
    "print(\"det=\", det)\n",
    "print(\"ou plus court, det=\", calculDeterminant(a, b, c))"
   ]
  },
  {
   "cell_type": "markdown",
   "metadata": {
    "collapsed": false
   },
   "source": [
    "Notez encore une fois, qu'une fonction a un bloc, indenté par le caractère tabulation. Le bloc de la fonction `calculDeterminant` commence à la ligne 4 et termine à la ligne 8 (inclus). \n",
    "\n",
    "Les variables définies dans un bloc ne sont visibles que dans ce bloc. Ainsi, dans ce programme, nous avons deux variables nommées `det` mais qui ne sont pas les mêmes. Celle déclarée ligne 6 est créée quand la fonction `calculDet` est exécutée et est détruite à la fin de l'exécution de la fonction.\n",
    "\n",
    "#### Exercice :\n",
    "\n",
    "1. dans la cellule de code suivante, importez la bibliothèque `math`. Elle sera utile pour accéder à la fonction racine carrée `math.sqrt()`\n",
    "2. écrire une fonction prenant en paramètre `a`, `b` et `c` et affichant les solutions de l'équation $ax^2 + bx + c =0$. Il sera nécessaire de ré-utiliser la fonction `calculDeterminant(a, b, c)`"
   ]
  },
  {
   "cell_type": "code",
   "execution_count": null,
   "metadata": {
    "collapsed": false
   },
   "outputs": [],
   "source": []
  },
  {
   "cell_type": "markdown",
   "metadata": {
    "collapsed": false
   },
   "source": [
    "### Les structures de données\n",
    "\n",
    "Python fournit plusieurs structures de données pour gérer facilement des listes de valeurs: les listes, les tuples et les dictionnaires.\n",
    "\n",
    "Une liste est un tableau pouvant contenir des valeurs/variables, où les éléments sont indexés par un indice entier. Une liste peut être **modifiée**, en ajoutant et supprimant des éléments.\n",
    "\n",
    "Par exemple :"
   ]
  },
  {
   "cell_type": "code",
   "execution_count": null,
   "metadata": {
    "collapsed": false
   },
   "outputs": [],
   "source": [
    "# création d'une liste de deux manières différentes\n",
    "l1 = []\n",
    "l1 = list()\n",
    "l2 = []\n",
    "\n",
    "print(l1)\n",
    "\n",
    "l1.append(4)\n",
    "\n",
    "print(l1)\n",
    "\n",
    "l1.append('c')\n",
    "\n",
    "print(l1)\n",
    "\n",
    "print(l1[1])\n",
    "\n",
    "print(\"len() permet d'obtenir la longueur d'une liste: \", len(l1))\n",
    "\n",
    "l1.insert(1, 45.258)\n",
    "\n",
    "print(l1)\n",
    "\n",
    "l1.reverse()\n",
    "\n",
    "print(l1)\n",
    "\n",
    "l2.append(\"voiture\")\n",
    "\n",
    "l2 = l1 + l2\n",
    "\n",
    "print(l2)\n",
    "\n",
    "del l2[0]\n",
    "\n",
    "print(l2)\n",
    "\n",
    "print(l1*2)"
   ]
  },
  {
   "cell_type": "markdown",
   "metadata": {
    "collapsed": false
   },
   "source": [
    "Les tuples sont des séquences de valeurs/variables immuables. On ne peut donc **pas** les **modifier**. L'accès à un élément d'un tuple se fait aussi via son indice. Les tuples sont très pratiques pour les fonctions : si vous avez besoin de retourner plusieurs valeurs/variables, vous pouvez le faire via un tuple.\n",
    "\n",
    "Par exemple :"
   ]
  },
  {
   "cell_type": "code",
   "execution_count": null,
   "metadata": {
    "collapsed": false
   },
   "outputs": [],
   "source": [
    "\n",
    "t1 = tuple(['a', 'b', 456])\n",
    "t1 = ('a', 'b', 456)\n",
    "t2 = (1, 35.4, \"kljlj\")\n",
    "\n",
    "print(t1+t2)\n",
    "\n",
    "t3 = t1*2\n",
    "\n",
    "print(t3)\n",
    "print(len(t3))\n",
    "print(t1[2])"
   ]
  },
  {
   "cell_type": "markdown",
   "metadata": {
    "collapsed": false
   },
   "source": [
    "Finalement, un dictionnaire contient des variables/valeurs indéxées par des clés. Un dictionnaire est modifiable.\n",
    "\n",
    "Par exemple :"
   ]
  },
  {
   "cell_type": "code",
   "execution_count": null,
   "metadata": {
    "collapsed": false
   },
   "outputs": [],
   "source": [
    "d1 = dict()\n",
    "d1 = {\"p002\": 45, \"p001\":78, \"p0015\":159}\n",
    "\n",
    "print(d1)\n",
    "\n",
    "print(d1[\"p002\"])\n",
    "\n",
    "d1[\"p0125\"] = 4\n",
    "\n",
    "print(d1)\n",
    "\n",
    "del d1[\"p0125\"]\n",
    "\n",
    "print(d1)"
   ]
  },
  {
   "cell_type": "markdown",
   "metadata": {
    "collapsed": false
   },
   "source": [
    "#### Exercice\n",
    "\n",
    "1. commentez les exemples précédents sur les listes, tuples et dictionnaires (ajoutez des commentaires indiquant ce qui est réalisé sur les structures de données)\n",
    "2. recherchez des informations sur le \"slice operator\"\n",
    "3. recherchez de l'information sur la fonction `range()`\n",
    "4. écrivez un programme créant une liste contenant tous les nombres pairs entre 1 et 100\n",
    "5. affichez le nombre d'éléments dans cette liste\n",
    "\n"
   ]
  },
  {
   "cell_type": "code",
   "execution_count": null,
   "metadata": {
    "collapsed": false
   },
   "outputs": [],
   "source": []
  },
  {
   "cell_type": "markdown",
   "metadata": {
    "collapsed": false
   },
   "source": [
    "#### Exercice\n",
    "\n",
    "6. modifiez votre fonction de calcul de solutions d'équation du second degré en retournant maintenant directement les solutions dans un tuple (et testez votre nouvelle fonction)"
   ]
  },
  {
   "cell_type": "code",
   "execution_count": null,
   "metadata": {
    "collapsed": false
   },
   "outputs": [],
   "source": []
  },
  {
   "cell_type": "markdown",
   "metadata": {
    "collapsed": false
   },
   "source": [
    "#### Exercice\n",
    "\n",
    "1. créez un dictionnaire contenant comme clé/valeur les mois de l'année avec leur nombre de jours.\n",
    "2. implémentez une fonction affichant tous les mois de l'année avec leur nombre de jours (d'une manière plus conviviale que l'affichage brute d'un dictionnaire)\n",
    "3. ajoutez dans le dictionnaire la clé \"févrierBissextile\" et la valeur '29'.\n",
    "4. affichez une deuxième fois votre dictionnaire"
   ]
  },
  {
   "cell_type": "code",
   "execution_count": null,
   "metadata": {
    "collapsed": false
   },
   "outputs": [],
   "source": []
  }
 ],
 "metadata": {
  "kernelspec": {
   "display_name": "Python 3.7.12 ('tensorflow')",
   "language": "python",
   "name": "python3"
  },
  "language_info": {
   "codemirror_mode": {
    "name": "ipython",
    "version": 3
   },
   "file_extension": ".py",
   "mimetype": "text/x-python",
   "name": "python",
   "nbconvert_exporter": "python",
   "pygments_lexer": "ipython3",
   "version": "3.7.12"
  },
  "toc": {
   "base_numbering": 1,
   "nav_menu": {},
   "number_sections": true,
   "sideBar": true,
   "skip_h1_title": false,
   "title_cell": "Table of Contents",
   "title_sidebar": "Contents",
   "toc_cell": false,
   "toc_position": {},
   "toc_section_display": true,
   "toc_window_display": true
  },
  "vscode": {
   "interpreter": {
    "hash": "26e703a13f136efadcc926dae761341b869ee060cc21fc1f60ec92f6b591cbb4"
   }
  }
 },
 "nbformat": 4,
 "nbformat_minor": 4
}
